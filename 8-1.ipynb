{
  "nbformat": 4,
  "nbformat_minor": 0,
  "metadata": {
    "colab": {
      "name": "8-1.ipynb",
      "provenance": [],
      "authorship_tag": "ABX9TyOBJF7JsZVOx03g474kXiXG",
      "include_colab_link": true
    },
    "kernelspec": {
      "name": "python3",
      "display_name": "Python 3"
    },
    "language_info": {
      "name": "python"
    }
  },
  "cells": [
    {
      "cell_type": "markdown",
      "metadata": {
        "id": "view-in-github",
        "colab_type": "text"
      },
      "source": [
        "<a href=\"https://colab.research.google.com/github/All4Nothing/hg-mldl/blob/main/8-1.ipynb\" target=\"_parent\"><img src=\"https://colab.research.google.com/assets/colab-badge.svg\" alt=\"Open In Colab\"/></a>"
      ]
    },
    {
      "cell_type": "markdown",
      "source": [
        "# 합성곱 신경망의 구성 요소 "
      ],
      "metadata": {
        "id": "PMCk9V82FNYB"
      }
    },
    {
      "cell_type": "markdown",
      "source": [
        "## 합성곱"
      ],
      "metadata": {
        "id": "usx2JMB6FF19"
      }
    },
    {
      "cell_type": "markdown",
      "source": [
        "**합성곱 convolution**은 입력 데이터 전체에 가중치를 적용하는 것이 아니라 일부에 가중치를 곱한다.  "
      ],
      "metadata": {
        "id": "iiKnD9yoFZ27"
      }
    },
    {
      "cell_type": "markdown",
      "source": [
        "**합성곱 신경망 convolutional neural network, CNN**에서는 완전 연결 신경망과 달리 뉴런을 **필터 filter**라고 부른다. 혹은 **커널 kernel**이라고도 부른다"
      ],
      "metadata": {
        "id": "Uzj24XSiGes1"
      }
    },
    {
      "cell_type": "markdown",
      "source": [
        "완전 연결 층(밀집층0만 사용하여 만든 신경망을 완전 연결 신경망(밀집 신경망)이라고 부른다"
      ],
      "metadata": {
        "id": "LBOZ3zz1GxMd"
      }
    },
    {
      "cell_type": "markdown",
      "source": [
        "합성곱 계산을 통해 얻은 출력을 **특성 맵 feature map**이라고 부른다"
      ],
      "metadata": {
        "id": "l0TxvohPGaiY"
      }
    },
    {
      "cell_type": "markdown",
      "source": [
        "![합성곱](https://wikidocs.net/images/page/64066/conv9.png)"
      ],
      "metadata": {
        "id": "3dnkyeQOHN2R"
      }
    },
    {
      "cell_type": "markdown",
      "source": [
        "여러 개의 필터를 사용하면 특성 맵은 순서대로 차곡 차곡 쌓인다."
      ],
      "metadata": {
        "id": "aXhA35TvH0SC"
      }
    },
    {
      "cell_type": "markdown",
      "source": [
        "입력보다 훨씬 작은 크기의 커널을 사용하고 입력 위를 이동하면서 2차원 특성 맵을 만든다.  \n",
        "2차원 구조를 그대로 사용하기 때문에 합성곱 신경망이 이미지 처리 분야에서 뛰어난 성능을 발휘한다.  "
      ],
      "metadata": {
        "id": "wEX3NK-AIKa8"
      }
    },
    {
      "cell_type": "markdown",
      "source": [
        "## 케라스 합성곱 층"
      ],
      "metadata": {
        "id": "DM1zAHvIISy0"
      }
    },
    {
      "cell_type": "markdown",
      "source": [
        "입력 위를 (왼쪽에서 오른쪽, 위에서 아래로) 이동하는 합성곱은 `Conv2D`클래스로 제공한다."
      ],
      "metadata": {
        "id": "k04hSE0rIeOG"
      }
    },
    {
      "cell_type": "code",
      "source": [
        "from tensorflow import keras\n",
        "keras.layers.Conv2D(10, kernel_size=(3, 3), activation='relu')"
      ],
      "metadata": {
        "colab": {
          "base_uri": "https://localhost:8080/"
        },
        "id": "R9MNike4IizD",
        "outputId": "d67041eb-e8d1-4683-989b-b0e84bbdfe01"
      },
      "execution_count": 2,
      "outputs": [
        {
          "output_type": "execute_result",
          "data": {
            "text/plain": [
              "<keras.layers.convolutional.Conv2D at 0x7f0145902f10>"
            ]
          },
          "metadata": {},
          "execution_count": 2
        }
      ]
    },
    {
      "cell_type": "markdown",
      "source": [
        "`Conv2D` 클래스의 첫 번째 매개변수는 필터의 개수이다.  \n",
        "`kernel_size` 매개변수는 필터에 사용할 커널의 크기를 지정한다.  \n",
        "활성화 함수를 지정한다.  "
      ],
      "metadata": {
        "id": "hUC-nJroItg9"
      }
    },
    {
      "cell_type": "markdown",
      "source": [
        "일반적으로 특성 맵은 활성화 함수를 통과한 값을 나타낸다. 합성곱에서는 활성화 출력이란 표현을 잘 쓰지 않는다."
      ],
      "metadata": {
        "id": "IPG7vbXAI_EE"
      }
    },
    {
      "cell_type": "markdown",
      "source": [
        "커널의 크기는 하이퍼파라미터이다. 보통 (3, 3)이나 (5, 5)크기가 권장된다."
      ],
      "metadata": {
        "id": "ROuOAv_TJFQo"
      }
    },
    {
      "cell_type": "markdown",
      "source": [
        "1개 이상의 합성곱 층을 쓴 인공 신경망을 합성망 신경망이라고 부른다. 꼭 합성곱 층만 사용한 신경망을 합성곱 신경망이라고 부르는 것은 아니다."
      ],
      "metadata": {
        "id": "WJv81OvfJV5T"
      }
    },
    {
      "cell_type": "markdown",
      "source": [
        "### 패딩과 스트라이드"
      ],
      "metadata": {
        "id": "cHU2gCgQIodj"
      }
    },
    {
      "cell_type": "markdown",
      "source": [
        "입력 배열의 주위를 가상의 원소로 채우는 것을 **패딩 padding**이라고 부른다"
      ],
      "metadata": {
        "id": "0u4htzVpJkoT"
      }
    },
    {
      "cell_type": "markdown",
      "source": [
        "실제 입력값이 아니기 때문에 패딩은 0으로 채운다.  \n",
        "패딩의 역할은 순전히 커널이 도장을 찍을 횟수를 늘려주는 것밖에는 없고, 실제 값은 0으로 채워져 있기 때문에 계산에 영향을 미치지 않는다"
      ],
      "metadata": {
        "id": "njgV7lgxJ6dg"
      }
    },
    {
      "cell_type": "markdown",
      "source": [
        "![패딩](https://wikidocs.net/images/page/64066/conv10.png)"
      ],
      "metadata": {
        "id": "A2UKcdtkJ2xy"
      }
    },
    {
      "cell_type": "markdown",
      "source": [
        "입력과 특성 맵의 크기를 동일하게 만들기 위해 입력 주위에 0으로 패딩 하는 것을 **세임 패딩 same padding**이라고 부른다.  \n",
        "합성곱 신경망에서는 세임 패딩이 많이 사용된다.  "
      ],
      "metadata": {
        "id": "iLqA0l4WKE8X"
      }
    },
    {
      "cell_type": "markdown",
      "source": [
        "패딩 없이 순수한 입력 배열에서만 합성곱을 하여 특성 맵을 만드는 경우를 **밸리드 패딩 valid padding**이라고 한다.   \n",
        "밸리드 패딩은 특성 맵의 크기가 줄어들 수 밖에 없다."
      ],
      "metadata": {
        "id": "vVpC2Q94J4H4"
      }
    },
    {
      "cell_type": "markdown",
      "source": [
        "패딩을 하지 않을 경우 중앙부와 모서리 픽셀이 합성곱에 참여하는 비율은 크게차이가 난다. 즉 모서리에 있는 중요한 정보가 특성맵으로 잘 전달되지 않을 가능성이 높고, 가운데에 있는 정보는 두드러지게 표현된다."
      ],
      "metadata": {
        "id": "9WCZsGnjKUcL"
      }
    },
    {
      "cell_type": "markdown",
      "source": [
        "적절한 패딩은 이미지의 주변에 있는 정보를 잃어버리지 않도록 도와준다.  "
      ],
      "metadata": {
        "id": "8yu66BNkKutX"
      }
    },
    {
      "cell_type": "markdown",
      "source": [
        "`Conv2D` 클래스에서 `padding` 매개변수로 패딩을 지정할 수 있다. 기본값은 `valid`로 밸리드 패딩을 나타내고, 세임 패딩은 `same`으로 지정할 수 있다."
      ],
      "metadata": {
        "id": "vViIHhwxK1gd"
      }
    },
    {
      "cell_type": "code",
      "source": [
        "keras.layers.Conv2D(10, kernel_size=(3, 3), activation='relu', padding=('same'))"
      ],
      "metadata": {
        "colab": {
          "base_uri": "https://localhost:8080/"
        },
        "id": "g1rRlKpAKxlo",
        "outputId": "2eb66198-3f0f-41ea-f7a9-cc1c49c23e72"
      },
      "execution_count": 3,
      "outputs": [
        {
          "output_type": "execute_result",
          "data": {
            "text/plain": [
              "<keras.layers.convolutional.Conv2D at 0x7f0144db9310>"
            ]
          },
          "metadata": {},
          "execution_count": 3
        }
      ]
    },
    {
      "cell_type": "markdown",
      "source": [
        "합성곱 연산시 이동하는 크기를 **스트라이드 stride**라고 한다. 기본으로 스트라이드는 1이다.  \n",
        "대부분 기본값을 그대로 사용하기 때문에 `strides` 매개변수는 잘 사용하지 않는다."
      ],
      "metadata": {
        "id": "W33eU6cPLGbF"
      }
    },
    {
      "cell_type": "code",
      "source": [
        "keras.layers.Conv2D(10, kernel_size=(3,3), activation='relu', padding='same', strides=1)"
      ],
      "metadata": {
        "colab": {
          "base_uri": "https://localhost:8080/"
        },
        "id": "WFvTRkkCLCYA",
        "outputId": "83800dc3-d6c5-4d42-d323-2ac9540d5b9f"
      },
      "execution_count": 5,
      "outputs": [
        {
          "output_type": "execute_result",
          "data": {
            "text/plain": [
              "<keras.layers.convolutional.Conv2D at 0x7f0144cc3090>"
            ]
          },
          "metadata": {},
          "execution_count": 5
        }
      ]
    },
    {
      "cell_type": "markdown",
      "source": [
        "### 풀링"
      ],
      "metadata": {
        "id": "76AJeSoaLTQi"
      }
    },
    {
      "cell_type": "markdown",
      "source": [
        "**풀링 pooling**은 합성곱 층에서 만든 특성 맵의 가로세로 크기를 줄이는 역할을 수행한다.  하지만 특성맵의 개수는 줄이지 않는다"
      ],
      "metadata": {
        "id": "E2EIhD5bL3gq"
      }
    },
    {
      "cell_type": "markdown",
      "source": [
        "풀링도 합성곱처럼 입력 위를 지나가면서 도장을 찍는다. 하지만 풀링에는 가중치가 없다. 도장을 찍은 영역에서 가장 큰 값을 고르거나 평균값을 계산한다.  \n",
        "이를 각각 **최대 풀링 max pooling**과 **평균 풀링 average pooling**이라고 부른다 "
      ],
      "metadata": {
        "id": "p3zYbb7WMJ2j"
      }
    },
    {
      "cell_type": "markdown",
      "source": [
        "풀링에서는 커널이 겹치지 않고 이동한다. 따라서 풀링의 크기가 (2, 2)이면 가로세로 두칸씩 이동한다. 즉 스트라이드가 2이다."
      ],
      "metadata": {
        "id": "7h-KfMz1MdH-"
      }
    },
    {
      "cell_type": "code",
      "source": [
        "keras.layers.MaxPooling2D(2)"
      ],
      "metadata": {
        "colab": {
          "base_uri": "https://localhost:8080/"
        },
        "id": "2UPNEhLUMVEp",
        "outputId": "5241e518-6fc8-4e55-8fd2-da75e9917144"
      },
      "execution_count": 6,
      "outputs": [
        {
          "output_type": "execute_result",
          "data": {
            "text/plain": [
              "<keras.layers.pooling.MaxPooling2D at 0x7f0144c75550>"
            ]
          },
          "metadata": {},
          "execution_count": 6
        }
      ]
    },
    {
      "cell_type": "markdown",
      "source": [
        "`MaxPooling2D`의 첫 번째 매개변수로 풀링의 크기를 지정한다.  \n",
        "대부분 풀링의 크기는 2이다."
      ],
      "metadata": {
        "id": "crrhqh-YNv79"
      }
    },
    {
      "cell_type": "markdown",
      "source": [
        "평균 풀링을 제공하는 클래스는 `AveragePooling2D`이다.  \n",
        "많은 경우 평균 풀링보다 최대 풀링을 많이 사용한다. 평균 풀링은 특성 맵에 있는 중요한 정보를 (평균하여)희석시킬 수 있기 때문이다."
      ],
      "metadata": {
        "id": "j1BQeIRUOCHJ"
      }
    },
    {
      "cell_type": "markdown",
      "source": [
        "## 합성곱 신경망의 전체 구조 "
      ],
      "metadata": {
        "id": "5ELw2cGQOMwy"
      }
    },
    {
      "cell_type": "markdown",
      "source": [
        "입력  \n",
        "1. 합성곱 층(세임 패딩)\n",
        "2. 풀링층\n",
        "3. 밀집층"
      ],
      "metadata": {
        "id": "B4S8nu8hOikA"
      }
    },
    {
      "cell_type": "markdown",
      "source": [
        "풀링을 사용하는 이유는 합성곱에서 스트라이드를 크게 하여 특성 맵을 줄이는 것보다 풀링 층에서 크기를 줄이는 것이 경험적으로 더 나은 성능을 내기 때문이다."
      ],
      "metadata": {
        "id": "9MnPt7-oOs8F"
      }
    },
    {
      "cell_type": "markdown",
      "source": [
        "풀링을 거친 특성 맵을 밀집층인 출력층에 전달하려면 3차원 배열을 1차원으로 펼쳐야 한다(`Flatten`)"
      ],
      "metadata": {
        "id": "Y4eFQ1o_O2th"
      }
    },
    {
      "cell_type": "markdown",
      "source": [
        "출력층에서 계산된 값은 소프트맥스 활성화 함수를 거쳐 최종 예측 확률이 된다."
      ],
      "metadata": {
        "id": "UWnlXCMwO9TW"
      }
    },
    {
      "cell_type": "markdown",
      "source": [
        "### 컬러 이미지를 사용한 합성곱"
      ],
      "metadata": {
        "id": "JEo6JbrjOl-l"
      }
    },
    {
      "cell_type": "markdown",
      "source": [
        "흑백 이미지는 2차원 배열로 표현할 수 있다.  \n",
        "컬러 이미지는 RGB 채널로 구성되어 있기 때문에 컴퓨터는 이를 3차원 배열로 표시한다.  \n",
        "하나의 컬러 이미지는 너비와 높이 차원 외에 깊이 차원(또는 채널 차원)이 있다.  "
      ],
      "metadata": {
        "id": "5ko6aOVzPex8"
      }
    },
    {
      "cell_type": "markdown",
      "source": [
        "![채널](https://wikidocs.net/images/page/64066/conv15.png)"
      ],
      "metadata": {
        "id": "6H9v-xjaPxba"
      }
    },
    {
      "cell_type": "markdown",
      "source": [
        "깊이가 있는 입력에서 합성곱을 수행하기 위해서는 도장도 깊이가 필요하다."
      ],
      "metadata": {
        "id": "84C75F0lPyfw"
      }
    },
    {
      "cell_type": "markdown",
      "source": [
        "입력이나 필터의 차원이 몇 개인지 상관없이 항상 출력은 하나의 값이다.  \n",
        "즉 특성 맵에 잇는 한 원소가 채워진다."
      ],
      "metadata": {
        "id": "9BtBZ7q_P9rd"
      }
    },
    {
      "cell_type": "markdown",
      "source": [
        "합성곱 신경망에서 필터는 이미지에 있는 어떤 특징을 찾는다고 생각할 수 있다. 처음에는 간단한 기본적인 특징 (직선, 곡선 등)을 찾고 층이 깊어질수록 다양하고 구체적인 특징을 감지할 수 있도록 필터의 개수를 늘린다.  \n",
        "또 어떤 특징이 이미지의 어느 위치에 놓이더라도 쉽게 감지할 수 있도록 너비와 높이 차원을 점점 줄여간다."
      ],
      "metadata": {
        "id": "h_507ir-QV5w"
      }
    }
  ]
}
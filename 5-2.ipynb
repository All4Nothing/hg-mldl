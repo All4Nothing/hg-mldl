{
  "cells": [
    {
      "cell_type": "markdown",
      "metadata": {
        "id": "view-in-github",
        "colab_type": "text"
      },
      "source": [
        "<a href=\"https://colab.research.google.com/github/All4Nothing/hg-mldl/blob/main/5-2.ipynb\" target=\"_parent\"><img src=\"https://colab.research.google.com/assets/colab-badge.svg\" alt=\"Open In Colab\"/></a>"
      ]
    },
    {
      "cell_type": "markdown",
      "metadata": {
        "id": "TxmWutW199yY"
      },
      "source": [
        "# 교차 검증과 그리드 서치 "
      ]
    },
    {
      "cell_type": "markdown",
      "metadata": {
        "id": "wv5J9_O499yd"
      },
      "source": [
        "테스트 세트로 일반화 성능을 올바르게 예측하려면 가능한 한 테스트 세트를 사용하지 말아야 한다"
      ]
    },
    {
      "cell_type": "markdown",
      "metadata": {
        "id": "f8XnMzKD99ye"
      },
      "source": [
        "모델을 만들고 나서 마지막에 딱 한번만 사용하는 것이 좋다"
      ]
    },
    {
      "cell_type": "markdown",
      "metadata": {
        "id": "MPrA_TRZ99ye"
      },
      "source": [
        "## 검증 세트"
      ]
    },
    {
      "cell_type": "markdown",
      "metadata": {
        "id": "sxeUcrcZ99yf"
      },
      "source": [
        "**검증 세트 validation set** 훈련 세트 중 테스트에 사용하는 용도로 나뉜 세트"
      ]
    },
    {
      "cell_type": "markdown",
      "metadata": {
        "id": "fii3evAC99yf"
      },
      "source": [
        "훈련 세트에서 모델을 훈련하고 검증 세트로 모델을 평가한다  \n",
        "테스트하고 싶은 매개변수를 바꿔가며 가장 좋은 모델을 고른다"
      ]
    },
    {
      "cell_type": "code",
      "execution_count": 1,
      "metadata": {
        "id": "bC-r270G99yg"
      },
      "outputs": [],
      "source": [
        "\n",
        "import pandas as pd\n",
        "\n",
        "wine = pd.read_csv('https://bit.ly/wine_csv_data')"
      ]
    },
    {
      "cell_type": "code",
      "execution_count": 4,
      "metadata": {
        "id": "tMsp0Ycb99yh"
      },
      "outputs": [],
      "source": [
        "data = wine[['alcohol', 'sugar', 'pH']].to_numpy()\n",
        "target = wine['class'].to_numpy()"
      ]
    },
    {
      "cell_type": "code",
      "execution_count": 6,
      "metadata": {
        "id": "9p4VO01J99yi"
      },
      "outputs": [],
      "source": [
        "from sklearn.model_selection import train_test_split\n",
        "\n",
        "train_input, test_input, train_target, test_target = train_test_split(\n",
        "    data, target, test_size=0.2, random_state=42)"
      ]
    },
    {
      "cell_type": "code",
      "execution_count": 7,
      "metadata": {
        "id": "6Rx8u08F99yj"
      },
      "outputs": [],
      "source": [
        "sub_input, val_input, sub_target, val_target = train_test_split(\n",
        "    train_input, train_target, test_size=0.2, random_state=42)"
      ]
    },
    {
      "cell_type": "code",
      "execution_count": 8,
      "metadata": {
        "colab": {
          "base_uri": "https://localhost:8080/"
        },
        "id": "mGjpWWni99yj",
        "outputId": "72c7f4c2-c696-4c04-8de7-502f44349188"
      },
      "outputs": [
        {
          "output_type": "stream",
          "name": "stdout",
          "text": [
            "(4157, 3) (1040, 3)\n"
          ]
        }
      ],
      "source": [
        "print(sub_input.shape, val_input.shape)"
      ]
    },
    {
      "cell_type": "code",
      "source": [
        "from sklearn.tree import DecisionTreeClassifier\n",
        "\n",
        "dt = DecisionTreeClassifier(random_state=42)\n",
        "dt.fit(sub_input, sub_target)\n",
        "print(dt.score(sub_input, sub_target))\n",
        "print(dt.score(val_input, val_target))"
      ],
      "metadata": {
        "colab": {
          "base_uri": "https://localhost:8080/"
        },
        "id": "AOeiUSyq_WQ6",
        "outputId": "ea1d94e0-f97e-4fb0-8ace-c4c7db754e0c"
      },
      "execution_count": 9,
      "outputs": [
        {
          "output_type": "stream",
          "name": "stdout",
          "text": [
            "0.9971133028626413\n",
            "0.864423076923077\n"
          ]
        }
      ]
    },
    {
      "cell_type": "markdown",
      "source": [
        "## 교차 검증"
      ],
      "metadata": {
        "id": "UXJy0gbr_Yj4"
      }
    },
    {
      "cell_type": "markdown",
      "source": [
        "**교차 검증 cross validation**은 검증 세트를 떼어 내어 평가하는 과정을 여러 번 반복한다"
      ],
      "metadata": {
        "id": "vM9gpz-g_XTm"
      }
    },
    {
      "cell_type": "markdown",
      "source": [
        "**k-폴드 교차 검증 k-fold cross validation**은 훈련 세트를 k 부분으로 나눠서 교차 검증을 수행하는 것  \n",
        "보통 5-폴드 교차 검증이나 10-폴드 교차 검증을 많이 사용  "
      ],
      "metadata": {
        "id": "FeOn7pTp_7bg"
      }
    },
    {
      "cell_type": "markdown",
      "source": [
        "`cross_validate()` 교차 검증 함수. 평가할 모델 객체를 첫 번째 매개변수로 전달, 훈련 세트 전체를 전달한다."
      ],
      "metadata": {
        "id": "8WVaumZyAIKK"
      }
    },
    {
      "cell_type": "markdown",
      "source": [
        "`cross_val_score()`함수는 `cross_validate()` 함수의 결과 중에서 test_score 값만 반환한다."
      ],
      "metadata": {
        "id": "ZzjVcT97BB-e"
      }
    },
    {
      "cell_type": "code",
      "source": [
        "from sklearn.model_selection import cross_validate\n",
        "scores = cross_validate(dt, train_input, train_target)\n",
        "print(scores)"
      ],
      "metadata": {
        "colab": {
          "base_uri": "https://localhost:8080/"
        },
        "id": "2fGAogsyBI1F",
        "outputId": "8e7e8c2d-40d3-48ac-f542-41b10a9c7683"
      },
      "execution_count": 11,
      "outputs": [
        {
          "output_type": "stream",
          "name": "stdout",
          "text": [
            "{'fit_time': array([0.02191234, 0.01751471, 0.01075268, 0.01055026, 0.01233649]), 'score_time': array([0.00124216, 0.00132656, 0.0013063 , 0.00128508, 0.00140214]), 'test_score': array([0.86923077, 0.84615385, 0.87680462, 0.84889317, 0.83541867])}\n"
          ]
        }
      ]
    },
    {
      "cell_type": "markdown",
      "source": [
        "`cross_validate()`함수는 기본적으로 5-폴드 교차 검증을 수행한다  \n",
        "`fit_time` : 모델 훈련 시간  \n",
        "`score_time` : 모델 검증 시간  \n",
        "`test_score` : 검증 폴드의 점수"
      ],
      "metadata": {
        "id": "R9lhNcx7Bi5B"
      }
    },
    {
      "cell_type": "markdown",
      "source": [
        "\n",
        "교차 검증의 최종 점수는 test_score 키에 담긴 5개의 점수를 평균하여 얻을 수 있다"
      ],
      "metadata": {
        "id": "MwLzRwkoCliu"
      }
    },
    {
      "cell_type": "code",
      "source": [
        "import numpy as np\n",
        "print(np.mean(scores['test_score']))"
      ],
      "metadata": {
        "colab": {
          "base_uri": "https://localhost:8080/"
        },
        "id": "FaqjFUs8BS8m",
        "outputId": "217843a1-ed50-4648-f8ca-2734770d4b58"
      },
      "execution_count": 13,
      "outputs": [
        {
          "output_type": "stream",
          "name": "stdout",
          "text": [
            "0.855300214703487\n"
          ]
        }
      ]
    },
    {
      "cell_type": "markdown",
      "source": [
        "`cross_validate()`는 훈련 세트를 섞어 폴드를 나누지 않는다  \n",
        "교차 검증을 할 때 훈련 세트를 섞으려면 분할기 splitter를 지정해야 한다"
      ],
      "metadata": {
        "id": "SKgP3M_kDZRw"
      }
    },
    {
      "cell_type": "markdown",
      "source": [
        "`cross_validate()` 함수는 기본적으로 회귀 모델일 경우 KFold 분할기를 사용하고, 분류 모델일 경우 타깃 클래스를 골고루 나누기 위해 StratifiedKFold를 사용한다"
      ],
      "metadata": {
        "id": "ZosxE3TCDm9q"
      }
    },
    {
      "cell_type": "code",
      "source": [
        "from sklearn.model_selection import StratifiedKFold\n",
        "scores = cross_validate(dt, train_input, train_target, cv=StratifiedKFold())\n",
        "print(np.mean(scores['test_score']))"
      ],
      "metadata": {
        "colab": {
          "base_uri": "https://localhost:8080/"
        },
        "id": "vwyvXZkjCZ7G",
        "outputId": "ad857173-7907-4ddb-bd7c-2201038c62ce"
      },
      "execution_count": 14,
      "outputs": [
        {
          "output_type": "stream",
          "name": "stdout",
          "text": [
            "0.855300214703487\n"
          ]
        }
      ]
    },
    {
      "cell_type": "code",
      "source": [
        "splitter = StratifiedKFold(n_splits=10, shuffle=True, random_state=42) # n_splits 매개변수는 몇(k) 폴드 교차 검증을 할지 정한다\n",
        "scores = cross_validate(dt, train_input, train_target, cv=splitter)\n",
        "print(np.mean(scores['test_score']))"
      ],
      "metadata": {
        "colab": {
          "base_uri": "https://localhost:8080/"
        },
        "id": "zbon6wcrDYve",
        "outputId": "25bda3cd-a1b5-49ff-cf67-033dfda58568"
      },
      "execution_count": 16,
      "outputs": [
        {
          "output_type": "stream",
          "name": "stdout",
          "text": [
            "0.8574181117533719\n"
          ]
        }
      ]
    },
    {
      "cell_type": "markdown",
      "source": [
        "## 하이퍼파라미터 튜닝"
      ],
      "metadata": {
        "id": "x-LiIL2SD97f"
      }
    },
    {
      "cell_type": "markdown",
      "source": [
        "모델 파라미터 : 머신러닝 모델이 학습하는 파라미터  \n",
        "하이퍼파라미터 : 모델이 학습할 수 없어서 사용자가 지정해야만 하는 파라미터"
      ],
      "metadata": {
        "id": "xMhVkuZ5ERaT"
      }
    },
    {
      "cell_type": "markdown",
      "source": [
        "AutoML : 사람의 개입 없이 하이퍼파라미터 튜닝을 자동으로 수행하는 기술"
      ],
      "metadata": {
        "id": "sWYLvPd-Efnb"
      }
    },
    {
      "cell_type": "markdown",
      "source": [
        "**그리드 서치 Grid Search**를 사용하여 여러 매개변수를 동시에 바꿔가며 최적의 값을 찾아가는 도구"
      ],
      "metadata": {
        "id": "9aNuK3aYEbcj"
      }
    },
    {
      "cell_type": "markdown",
      "source": [
        "사이킷런의 `GridSearchCV` 클래스는 하이퍼파라미터 탐색과 교차 검증을 한번에 수행한다."
      ],
      "metadata": {
        "id": "-Rr2fGGSEzLx"
      }
    },
    {
      "cell_type": "code",
      "source": [
        "from sklearn.model_selection import  GridSearchCV\n",
        "params = {'min_impurity_decrease': [0.0001, 0.0002, 0.0003, 0.0004, 0.0005]}"
      ],
      "metadata": {
        "id": "Se_ZgFZyExPC"
      },
      "execution_count": 17,
      "outputs": []
    },
    {
      "cell_type": "code",
      "source": [
        "gs = GridSearchCV(DecisionTreeClassifier(random_state=42), params, n_jobs=-1)"
      ],
      "metadata": {
        "id": "TIhugP6zHWti"
      },
      "execution_count": 18,
      "outputs": []
    },
    {
      "cell_type": "markdown",
      "source": [
        "`GridSearchCV`의 매개변수 기본값은 5 즉, `min_impurity_decrease` 값마다 5-폴드 교차 검증을 수행한다.  \n",
        "많은 모델(5x5=25개)을 훈련하기 때문에 `n_jobs` 매개변수에서 병렬 실행에 사용할 CPU 코어 수를 지정한다  \n",
        "-1로 지정하면 시스템에 있는 모든 코어를 사용한다"
      ],
      "metadata": {
        "id": "5Qu1phqTHyHs"
      }
    },
    {
      "cell_type": "code",
      "source": [
        "gs.fit(train_input, train_target)"
      ],
      "metadata": {
        "colab": {
          "base_uri": "https://localhost:8080/"
        },
        "id": "mrGE7CuzIgzd",
        "outputId": "a7e0996b-7bba-4ab1-db77-580c8d1e71cb"
      },
      "execution_count": 19,
      "outputs": [
        {
          "output_type": "execute_result",
          "data": {
            "text/plain": [
              "GridSearchCV(estimator=DecisionTreeClassifier(random_state=42), n_jobs=-1,\n",
              "             param_grid={'min_impurity_decrease': [0.0001, 0.0002, 0.0003,\n",
              "                                                   0.0004, 0.0005]})"
            ]
          },
          "metadata": {},
          "execution_count": 19
        }
      ]
    },
    {
      "cell_type": "markdown",
      "source": [
        "교차 검증에서 최적의 하이퍼파라미터를 찾으면 전체 훈련 세트로 모델을 다시 만들어야 한다  \n",
        "사이킷런의 그리드 서치는 훈련이 끝나면 검증 점수가 가장 높은 모델의 매개변수 조합으로 전체 훈련 세트에서 자동으로 다시 모델을 훈련한다  \n",
        "이 모델은 gs 객체의 `best_estimator_` 속성에 저장되어 있다"
      ],
      "metadata": {
        "id": "a5fYIDyLIsnd"
      }
    },
    {
      "cell_type": "code",
      "source": [
        "dt = gs.best_estimator_\n",
        "print(dt.score(train_input, train_target))"
      ],
      "metadata": {
        "colab": {
          "base_uri": "https://localhost:8080/"
        },
        "id": "AEFbMGpkIlhr",
        "outputId": "fc5bc41d-6b83-4adb-8c8f-a9ecd83a43fc"
      },
      "execution_count": 20,
      "outputs": [
        {
          "output_type": "stream",
          "name": "stdout",
          "text": [
            "0.9615162593804117\n"
          ]
        }
      ]
    },
    {
      "cell_type": "markdown",
      "source": [
        "그리드 서치로 찾은 최적의 매개변수는 `best_params` 속성에 저장되어 있다"
      ],
      "metadata": {
        "id": "REHsSK1DJWqL"
      }
    },
    {
      "cell_type": "code",
      "source": [
        "print(gs.best_params_)"
      ],
      "metadata": {
        "colab": {
          "base_uri": "https://localhost:8080/"
        },
        "id": "UOfTSSRaJTLV",
        "outputId": "a3c63d48-70b8-4e16-fb47-48dca5616aac"
      },
      "execution_count": 22,
      "outputs": [
        {
          "output_type": "stream",
          "name": "stdout",
          "text": [
            "{'min_impurity_decrease': 0.0001}\n"
          ]
        }
      ]
    },
    {
      "cell_type": "markdown",
      "source": [
        "각 매개변수에서 수행한 교차 검증의 평균 점수는 cv_results_ 속성의 `mean_test_score`키에 저장되어 있다"
      ],
      "metadata": {
        "id": "R8HZOvS1Ji5l"
      }
    },
    {
      "cell_type": "code",
      "source": [
        "print(gs.cv_results_['mean_test_score'])"
      ],
      "metadata": {
        "colab": {
          "base_uri": "https://localhost:8080/"
        },
        "id": "f3-XFtnbJfPP",
        "outputId": "067a5b38-6ffe-4d56-ef3f-62b2f6762f2b"
      },
      "execution_count": 23,
      "outputs": [
        {
          "output_type": "stream",
          "name": "stdout",
          "text": [
            "[0.86819297 0.86453617 0.86492226 0.86780891 0.86761605]\n"
          ]
        }
      ]
    },
    {
      "cell_type": "code",
      "source": [
        "best_index = np.argmax(gs.cv_results_['mean_test_score'])\n",
        "print(gs.cv_results_['params'][best_index])"
      ],
      "metadata": {
        "colab": {
          "base_uri": "https://localhost:8080/"
        },
        "id": "h82aIMfEJquf",
        "outputId": "65e8457d-7ae9-4dd3-8529-e1343b823e3a"
      },
      "execution_count": 24,
      "outputs": [
        {
          "output_type": "stream",
          "name": "stdout",
          "text": [
            "{'min_impurity_decrease': 0.0001}\n"
          ]
        }
      ]
    },
    {
      "cell_type": "code",
      "source": [
        "params = {'min_impurity_decrease': np.arange(0.0001, 0.001, 0.0001), # 넘파이 arange() : 첫 번째 매개변수 값에서 시작하여 두 번째 매개변수에 도달할 때까지 세 번째 매개변수를 계속 더한 배열을 만든다\n",
        "          'max_depth': range(5, 20, 1), # 파이썬 range() : 정수만 사용할 수 있다\n",
        "          'min_samples_split': range(2, 100, 10)\n",
        "          }"
      ],
      "metadata": {
        "id": "YegSoIg-KDp0"
      },
      "execution_count": 27,
      "outputs": []
    },
    {
      "cell_type": "code",
      "source": [
        "gs = GridSearchCV(DecisionTreeClassifier(random_state=42), params, n_jobs=-1)\n",
        "gs.fit(train_input, train_target)"
      ],
      "metadata": {
        "colab": {
          "base_uri": "https://localhost:8080/"
        },
        "id": "1_1P4FISKfoO",
        "outputId": "ec0c4070-dd1c-4550-ebff-e8a31e6ae1de"
      },
      "execution_count": 28,
      "outputs": [
        {
          "output_type": "execute_result",
          "data": {
            "text/plain": [
              "GridSearchCV(estimator=DecisionTreeClassifier(random_state=42), n_jobs=-1,\n",
              "             param_grid={'max_depth': range(5, 20),\n",
              "                         'min_impurity_decrease': array([0.0001, 0.0002, 0.0003, 0.0004, 0.0005, 0.0006, 0.0007, 0.0008,\n",
              "       0.0009]),\n",
              "                         'min_samples_split': range(2, 100, 10)})"
            ]
          },
          "metadata": {},
          "execution_count": 28
        }
      ]
    },
    {
      "cell_type": "code",
      "source": [
        "print(gs.best_params_)"
      ],
      "metadata": {
        "colab": {
          "base_uri": "https://localhost:8080/"
        },
        "id": "Dpu-6wNSLGww",
        "outputId": "1a294005-0d4a-4078-e532-e2defa0fb5b8"
      },
      "execution_count": 29,
      "outputs": [
        {
          "output_type": "stream",
          "name": "stdout",
          "text": [
            "{'max_depth': 14, 'min_impurity_decrease': 0.0004, 'min_samples_split': 12}\n"
          ]
        }
      ]
    },
    {
      "cell_type": "code",
      "source": [
        "print(np.max(gs.cv_results_['mean_test_score']))"
      ],
      "metadata": {
        "colab": {
          "base_uri": "https://localhost:8080/"
        },
        "id": "LnqsbzBvLnVx",
        "outputId": "a5bfe045-1ddb-4766-fdd8-2ebc634be34d"
      },
      "execution_count": 30,
      "outputs": [
        {
          "output_type": "stream",
          "name": "stdout",
          "text": [
            "0.8683865773302731\n"
          ]
        }
      ]
    },
    {
      "cell_type": "markdown",
      "source": [
        "### 랜덤 서치"
      ],
      "metadata": {
        "id": "fHVIh5PsLrmq"
      }
    },
    {
      "cell_type": "markdown",
      "source": [
        "**랜덤 서치 Random Search** 매개변수의 값이 수치일 때 값의 범위나 간격을 미리 정하기 어렵거나, 매개 변수 조건이 너무 많아 그리드 서치 수행 시간이 오래 걸릴 경우 사용하면 좋다"
      ],
      "metadata": {
        "id": "gIIX6HqTLu6h"
      }
    },
    {
      "cell_type": "markdown",
      "source": [
        "랜덤 서치에는 매개변수 값의 목록을 전달하는 것이 아니라 매개변수를 샘플링할 수 있는 확률 분포 객체를 전달한다"
      ],
      "metadata": {
        "id": "PG3zs0UPLyJG"
      }
    },
    {
      "cell_type": "code",
      "source": [
        "from scipy.stats import uniform, randint"
      ],
      "metadata": {
        "id": "BRQdwAyuMARA"
      },
      "execution_count": 31,
      "outputs": []
    },
    {
      "cell_type": "markdown",
      "source": [
        "`uniform`과 `randint` 클래스 모두 균등 분포에서 샘플링 한다  \n",
        "`randint` : 정수값 뽑음   \n",
        "`uniform` : 실수값 뽑음"
      ],
      "metadata": {
        "id": "ww9qMyeDNR6s"
      }
    },
    {
      "cell_type": "code",
      "source": [
        "rgen = randint(0, 10)\n",
        "rgen.rvs(10)"
      ],
      "metadata": {
        "colab": {
          "base_uri": "https://localhost:8080/"
        },
        "id": "E6vhAdZSMFUL",
        "outputId": "cc2c1535-b3d0-4b31-e126-7931c6a74152"
      },
      "execution_count": 32,
      "outputs": [
        {
          "output_type": "execute_result",
          "data": {
            "text/plain": [
              "array([9, 3, 7, 3, 7, 8, 2, 6, 5, 7])"
            ]
          },
          "metadata": {},
          "execution_count": 32
        }
      ]
    },
    {
      "cell_type": "code",
      "source": [
        "np.unique(rgen.rvs(1000), return_counts=True)"
      ],
      "metadata": {
        "colab": {
          "base_uri": "https://localhost:8080/"
        },
        "id": "v0fo4T-ANifc",
        "outputId": "e3b5336e-0e98-4a59-e4ab-8660d0abb3b2"
      },
      "execution_count": 33,
      "outputs": [
        {
          "output_type": "execute_result",
          "data": {
            "text/plain": [
              "(array([0, 1, 2, 3, 4, 5, 6, 7, 8, 9]),\n",
              " array([ 84, 111,  91, 109, 103, 109,  98,  96, 104,  95]))"
            ]
          },
          "metadata": {},
          "execution_count": 33
        }
      ]
    },
    {
      "cell_type": "code",
      "source": [
        "ugen = uniform(0, 1)\n",
        "ugen.rvs(10)"
      ],
      "metadata": {
        "colab": {
          "base_uri": "https://localhost:8080/"
        },
        "id": "bC90B9IpNnNX",
        "outputId": "224f35a6-f062-4ce1-cbe3-704df9357885"
      },
      "execution_count": 34,
      "outputs": [
        {
          "output_type": "execute_result",
          "data": {
            "text/plain": [
              "array([0.01620325, 0.9167649 , 0.65393695, 0.33496869, 0.84696733,\n",
              "       0.33702295, 0.02412408, 0.96643553, 0.12333489, 0.63427106])"
            ]
          },
          "metadata": {},
          "execution_count": 34
        }
      ]
    },
    {
      "cell_type": "code",
      "source": [
        "params = {'min_impurity_decrease': uniform(0.0001, 0.001),\n",
        "          'max_depth': randint(20, 50),\n",
        "          'min_samples_split': randint(2, 25),\n",
        "          'min_samples_leaf': randint(1, 25),\n",
        "}"
      ],
      "metadata": {
        "id": "X53UddfNORc-"
      },
      "execution_count": 36,
      "outputs": []
    },
    {
      "cell_type": "code",
      "source": [
        "from sklearn.model_selection import RandomizedSearchCV\n",
        "\n",
        "gs = RandomizedSearchCV(DecisionTreeClassifier(random_state=42), params, n_iter=100, n_jobs=-1, random_state=42)\n",
        "gs.fit(train_input, train_target)"
      ],
      "metadata": {
        "colab": {
          "base_uri": "https://localhost:8080/"
        },
        "id": "9-48MRKcOnNl",
        "outputId": "63f1b85a-b453-4c4c-ff56-fa60b6a2e082"
      },
      "execution_count": 38,
      "outputs": [
        {
          "output_type": "execute_result",
          "data": {
            "text/plain": [
              "RandomizedSearchCV(estimator=DecisionTreeClassifier(random_state=42),\n",
              "                   n_iter=100, n_jobs=-1,\n",
              "                   param_distributions={'max_depth': <scipy.stats._distn_infrastructure.rv_frozen object at 0x7fcb338085d0>,\n",
              "                                        'min_impurity_decrease': <scipy.stats._distn_infrastructure.rv_frozen object at 0x7fcb325fc190>,\n",
              "                                        'min_samples_leaf': <scipy.stats._distn_infrastructure.rv_frozen object at 0x7fcb325fc090>,\n",
              "                                        'min_samples_split': <scipy.stats._distn_infrastructure.rv_frozen object at 0x7fcb325fc6d0>},\n",
              "                   random_state=42)"
            ]
          },
          "metadata": {},
          "execution_count": 38
        }
      ]
    },
    {
      "cell_type": "code",
      "source": [
        "print(gs.best_params_)"
      ],
      "metadata": {
        "colab": {
          "base_uri": "https://localhost:8080/"
        },
        "id": "c6MkEmkbO31P",
        "outputId": "4cea3054-04dd-4ace-fd9f-0065f933bf97"
      },
      "execution_count": 39,
      "outputs": [
        {
          "output_type": "stream",
          "name": "stdout",
          "text": [
            "{'max_depth': 39, 'min_impurity_decrease': 0.00034102546602601173, 'min_samples_leaf': 7, 'min_samples_split': 13}\n"
          ]
        }
      ]
    },
    {
      "cell_type": "code",
      "source": [
        "print(np.max(gs.cv_results_['mean_test_score']))"
      ],
      "metadata": {
        "colab": {
          "base_uri": "https://localhost:8080/"
        },
        "id": "2w96vQPGO-5B",
        "outputId": "7dbc0bce-4902-4533-c51d-fea13dec0d0d"
      },
      "execution_count": 40,
      "outputs": [
        {
          "output_type": "stream",
          "name": "stdout",
          "text": [
            "0.8695428296438884\n"
          ]
        }
      ]
    },
    {
      "cell_type": "code",
      "source": [
        "dt = gs.best_estimator_\n",
        "print(dt.score(test_input, test_target))"
      ],
      "metadata": {
        "colab": {
          "base_uri": "https://localhost:8080/"
        },
        "id": "N_vbXxv4PCbk",
        "outputId": "55476cc7-65dd-420a-9d9d-15937105c71b"
      },
      "execution_count": 41,
      "outputs": [
        {
          "output_type": "stream",
          "name": "stdout",
          "text": [
            "0.86\n"
          ]
        }
      ]
    },
    {
      "cell_type": "markdown",
      "source": [
        "테스트 세트 점수는 검증 세트에 대한 점수보다 조금 작은 것이 일반적이다."
      ],
      "metadata": {
        "id": "6npbkZDSPLTY"
      }
    }
  ],
  "metadata": {
    "kernelspec": {
      "display_name": "Python 3.7.13 64-bit",
      "language": "python",
      "name": "python3"
    },
    "language_info": {
      "codemirror_mode": {
        "name": "ipython",
        "version": 3
      },
      "file_extension": ".py",
      "mimetype": "text/x-python",
      "name": "python",
      "nbconvert_exporter": "python",
      "pygments_lexer": "ipython3",
      "version": "3.7.13"
    },
    "orig_nbformat": 4,
    "vscode": {
      "interpreter": {
        "hash": "31f2aee4e71d21fbe5cf8b01ff0e069b9275f58929596ceb00d14d90e3e16cd6"
      }
    },
    "colab": {
      "name": "5-2.ipynb",
      "provenance": [],
      "collapsed_sections": [],
      "include_colab_link": true
    },
    "gpuClass": "standard"
  },
  "nbformat": 4,
  "nbformat_minor": 0
}
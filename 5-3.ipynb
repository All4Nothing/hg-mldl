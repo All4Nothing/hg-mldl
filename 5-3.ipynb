{
  "nbformat": 4,
  "nbformat_minor": 0,
  "metadata": {
    "colab": {
      "name": "5-3.ipynb",
      "provenance": [],
      "authorship_tag": "ABX9TyNTq2mM4/UhZABmdoZX+RsU",
      "include_colab_link": true
    },
    "kernelspec": {
      "name": "python3",
      "display_name": "Python 3"
    },
    "language_info": {
      "name": "python"
    }
  },
  "cells": [
    {
      "cell_type": "markdown",
      "metadata": {
        "id": "view-in-github",
        "colab_type": "text"
      },
      "source": [
        "<a href=\"https://colab.research.google.com/github/All4Nothing/hg-mldl/blob/main/5-3.ipynb\" target=\"_parent\"><img src=\"https://colab.research.google.com/assets/colab-badge.svg\" alt=\"Open In Colab\"/></a>"
      ]
    },
    {
      "cell_type": "markdown",
      "source": [
        "# 트리의 앙상블"
      ],
      "metadata": {
        "id": "S8IFDa9eozpS"
      }
    },
    {
      "cell_type": "markdown",
      "source": [
        "## 정형 데이터와 비정형 데이터"
      ],
      "metadata": {
        "id": "gY9ztLCTo3Iu"
      }
    },
    {
      "cell_type": "markdown",
      "source": [
        "**정형 데이터 structured data** 어떤 구조로 되어 있는 데이터  \n",
        "**비정형 데이터** 구조가 없는 데이터"
      ],
      "metadata": {
        "id": "8QfHokkfpHzo"
      }
    },
    {
      "cell_type": "markdown",
      "source": [
        "**앙상블 학습 ensemble learning** 정형 데이터를 다루는 데 가장 뛰어난 성과를 내는 알고리즘"
      ],
      "metadata": {
        "id": "g4656AAZpVUp"
      }
    },
    {
      "cell_type": "markdown",
      "source": [
        "## 랜덤 포레스트"
      ],
      "metadata": {
        "id": "e-hqLxcOo3HE"
      }
    },
    {
      "cell_type": "markdown",
      "source": [
        "**랜덤 포레스트 Random Forest**는 결정 트리를 랜덤하게 만들어 결정 트리(나무)의 **숲**을 만든다. 그리고 각 결정 트리의 예측을 사용해 최종 예측을 만든다."
      ],
      "metadata": {
        "id": "4B3nyk0Lpfod"
      }
    },
    {
      "cell_type": "markdown",
      "source": [
        "**부트스트랩 샘플 bootstrap sample** 훈련 데이터에서 랜덤하게 샘플을 복원 추출하여 만든 훈련 데이터  \n",
        "기본적으로 부트스트랩 샘플은 훈련 세트의 크기와 같게 만든다"
      ],
      "metadata": {
        "id": "lz1pd_TAqAG_"
      }
    },
    {
      "cell_type": "markdown",
      "source": [
        "분류 모델인 `RandomForestClassifier`는 기본적으로 전체 특성 개수의 제곱근만큼의 특성을 선택한다  \n",
        "회귀 모델인 `RandomForestRegressor`는 전체 특성을 사용한다"
      ],
      "metadata": {
        "id": "KiK0Dkw6qdLi"
      }
    },
    {
      "cell_type": "code",
      "source": [
        "import numpy as np\n",
        "import pandas as pd\n",
        "from sklearn.model_selection import train_test_split\n",
        "\n",
        "wine = pd.read_csv('https://bit.ly/wine_csv_data')\n",
        "\n",
        "data = wine[['alcohol', 'sugar', 'pH']].to_numpy()\n",
        "target = wine['class'].to_numpy()\n",
        "\n",
        "train_input, test_input, train_target, test_target = train_test_split(data, target, test_size=0.2, random_state=42)"
      ],
      "metadata": {
        "id": "CDNPx2t4rAen"
      },
      "execution_count": 1,
      "outputs": []
    },
    {
      "cell_type": "markdown",
      "source": [
        "`RandomForestClassifier`는 기본적으로 100개의 결정 트리를 사용하므로 n_jobs 매개변수를 -1로 지정하는 것이 좋다."
      ],
      "metadata": {
        "id": "Uq1toPaMrLGR"
      }
    },
    {
      "cell_type": "markdown",
      "source": [
        "`return_train_score = True` : 검증 전수뿐만 아닌 훈련 세트에 대한 점수도 같이 반환"
      ],
      "metadata": {
        "id": "fukXnkfrrV9_"
      }
    },
    {
      "cell_type": "code",
      "source": [
        "from sklearn.model_selection import cross_validate\n",
        "from sklearn.ensemble import RandomForestClassifier\n",
        "\n",
        "rf = RandomForestClassifier(n_jobs=-1, random_state=42)\n",
        "scores = cross_validate(rf, train_input, train_target, return_train_score=True, n_jobs=-1)\n",
        "print(np.mean(scores['train_score']), np.mean(scores['test_score']))"
      ],
      "metadata": {
        "colab": {
          "base_uri": "https://localhost:8080/"
        },
        "id": "UtxUXlCgrHQj",
        "outputId": "b90544af-07ba-49d0-d0d1-b50eb2d8e41a"
      },
      "execution_count": 2,
      "outputs": [
        {
          "output_type": "stream",
          "name": "stdout",
          "text": [
            "0.9973541965122431 0.8905151032797809\n"
          ]
        }
      ]
    },
    {
      "cell_type": "markdown",
      "source": [
        "랜덤 포레스트의 특성 중요도는 각 결정 트리의 특성 중요도를 취합한 것이다"
      ],
      "metadata": {
        "id": "BaIlbTorsAYh"
      }
    },
    {
      "cell_type": "code",
      "source": [
        "rf.fit(train_input, train_target)\n",
        "print(rf.feature_importances_)"
      ],
      "metadata": {
        "colab": {
          "base_uri": "https://localhost:8080/"
        },
        "id": "IuVcJLgesDtt",
        "outputId": "4f326e4f-f36c-4c0d-ac49-3e4a8d7e072f"
      },
      "execution_count": 3,
      "outputs": [
        {
          "output_type": "stream",
          "name": "stdout",
          "text": [
            "[0.23167441 0.50039841 0.26792718]\n"
          ]
        }
      ]
    },
    {
      "cell_type": "markdown",
      "source": [
        "**OOB out of bag** 샘플 : 부트스트랩 샘플에 포함되지 않고 남는 샘플  \n",
        "`RandomForestClassifier` 클래스의 `oob_score=True`로 지정하여 OOB 점수 얻을 수 있다."
      ],
      "metadata": {
        "id": "5d-tEBQpt_IX"
      }
    },
    {
      "cell_type": "code",
      "source": [
        "rf = RandomForestClassifier(oob_score=True, n_jobs=-1, random_state=42)\n",
        "rf.fit(train_input, train_target)  \n",
        "print(rf.oob_score_)"
      ],
      "metadata": {
        "colab": {
          "base_uri": "https://localhost:8080/"
        },
        "id": "xyvCC3vit70Z",
        "outputId": "b723590d-f3d1-4fd3-a2f8-ecff76061309"
      },
      "execution_count": 4,
      "outputs": [
        {
          "output_type": "stream",
          "name": "stdout",
          "text": [
            "0.8934000384837406\n"
          ]
        }
      ]
    },
    {
      "cell_type": "markdown",
      "source": [
        "## 엑스트라 트리"
      ],
      "metadata": {
        "id": "c909E4x4o3FT"
      }
    },
    {
      "cell_type": "markdown",
      "source": [
        "**엑스트라 트리 Extra Tree**는 기본적으로 100개의 결정 트리를 훈련합니다.  \n",
        "랜덤 포레스트와 매우 비슷하며, 전체 특성 중에 일부 특성을 랜덤하게 선택하여 노드를 분할하는데 사용한다  \n",
        "랜덤 포레스트와는 달리 부트스트랩 샘플을 사용하지 않는다(전체 훈련 세트를 사용한다)  \n",
        "노들르 분할할 때 무작위로 분할한다(= `DecisionTreeClassifier` `splitter=random`)"
      ],
      "metadata": {
        "id": "VZep3jXm3rjv"
      }
    },
    {
      "cell_type": "code",
      "source": [
        "from sklearn.ensemble import ExtraTreesClassifier\n",
        "et = ExtraTreesClassifier(n_jobs=-1, random_state=42)\n",
        "scores = cross_validate(et, train_input, train_target, return_train_score=True, n_jobs=-1)\n",
        "print(np.mean(scores['train_score']), np.mean(scores['test_score']))"
      ],
      "metadata": {
        "colab": {
          "base_uri": "https://localhost:8080/"
        },
        "id": "32vwWkylby_N",
        "outputId": "caf62a22-3577-4795-eb61-03565fb07d0b"
      },
      "execution_count": 6,
      "outputs": [
        {
          "output_type": "stream",
          "name": "stdout",
          "text": [
            "0.9974503966084433 0.8887848893166506\n"
          ]
        }
      ]
    },
    {
      "cell_type": "markdown",
      "source": [
        "특성을 무작위로 분할하여 성능이 낮아지겠지만 많은 트리를 앙상블 하기 때문에 과대적합을 막고 검증 세트의 점수를 높이는 효과가 있고, 계산 속도가 빠르다"
      ],
      "metadata": {
        "id": "yXsgpRkbcn5S"
      }
    },
    {
      "cell_type": "code",
      "source": [
        "et.fit(train_input, train_target)\n",
        "print(et.feature_importances_)"
      ],
      "metadata": {
        "colab": {
          "base_uri": "https://localhost:8080/"
        },
        "id": "vomP_6BccyAC",
        "outputId": "6aa43616-98ad-4075-b5a4-992e2b734a32"
      },
      "execution_count": 8,
      "outputs": [
        {
          "output_type": "stream",
          "name": "stdout",
          "text": [
            "[0.20183568 0.52242907 0.27573525]\n"
          ]
        }
      ]
    },
    {
      "cell_type": "markdown",
      "source": [
        "엑스트라 트리의 회귀 버전은 `ExtraTreesRegressor`"
      ],
      "metadata": {
        "id": "wv55fuZGc9sz"
      }
    },
    {
      "cell_type": "markdown",
      "source": [
        "## 그레이디언트 부스팅"
      ],
      "metadata": {
        "id": "FjDErtcio3DZ"
      }
    },
    {
      "cell_type": "markdown",
      "source": [
        "**그레이디언트 부스팅 gradient boosting**은 깊이가 얕은 결정 트리를 사용하여 이전 트리의 오차를 보완하는 방식으로 앙상블 하는 방법"
      ],
      "metadata": {
        "id": "KWcj8diWdGvO"
      }
    },
    {
      "cell_type": "markdown",
      "source": [
        "사이킷런의 `GradientBoostingClassifier`는 기본적으로 깊이가 3인 결정 트리를 100개 사용한다. 깊이가 얕은 결정 트리를 사용하기 때문에 과대적합에 강하고 일반적으로 높은 성능을 기대할 수 있다."
      ],
      "metadata": {
        "id": "SKVggLuIdSfz"
      }
    },
    {
      "cell_type": "markdown",
      "source": [
        "경사 하강법을 사용하여 트리를 앙상블에 추가한다  \n",
        "분류에서는 로지스틱 손실 함수를 사용하고 회귀에서는 평균 제곱 오차 함수를 사용한다"
      ],
      "metadata": {
        "id": "edWanmIbdhDZ"
      }
    },
    {
      "cell_type": "code",
      "source": [
        "from sklearn.ensemble import GradientBoostingClassifier\n",
        "\n",
        "gb = GradientBoostingClassifier(random_state=42)\n",
        "scores = cross_validate(gb, train_input, train_target, return_train_score=True, n_jobs=-1)\n",
        "print(np.mean(scores['train_score']), np.mean(scores['test_score']))"
      ],
      "metadata": {
        "colab": {
          "base_uri": "https://localhost:8080/"
        },
        "id": "f8XgVMPLdzHK",
        "outputId": "fa5c3649-0125-4543-a10e-55baf71802cd"
      },
      "execution_count": 9,
      "outputs": [
        {
          "output_type": "stream",
          "name": "stdout",
          "text": [
            "0.8881086892152563 0.8720430147331015\n"
          ]
        }
      ]
    },
    {
      "cell_type": "markdown",
      "source": [
        "그레이디언트 부스팅은 결정 트리의 개수를 늘려도 과대적합에 강해, 학습률을 증가시키고 트리의 개수를 늘리면 성능이 향상될 수 있다."
      ],
      "metadata": {
        "id": "S9LLFC-CeXxT"
      }
    },
    {
      "cell_type": "code",
      "source": [
        "gb = GradientBoostingClassifier(n_estimators=500, learning_rate=0.2, random_state=42)\n",
        "scores = cross_validate(gb, train_input, train_target, return_train_score=True, n_jobs=-1)\n",
        "print(np.mean(scores['train_score']), np.mean(scores['test_score']))"
      ],
      "metadata": {
        "colab": {
          "base_uri": "https://localhost:8080/"
        },
        "id": "eEgiGgwAefea",
        "outputId": "1f67b9f2-cf74-4845-ca45-885d51b70c75"
      },
      "execution_count": 10,
      "outputs": [
        {
          "output_type": "stream",
          "name": "stdout",
          "text": [
            "0.9464595437171814 0.8780082549788999\n"
          ]
        }
      ]
    },
    {
      "cell_type": "code",
      "source": [
        "gb.fit(train_input, train_target)\n",
        "print(gb.feature_importances_)"
      ],
      "metadata": {
        "colab": {
          "base_uri": "https://localhost:8080/"
        },
        "id": "jXhkICMsfFXf",
        "outputId": "7d6b64d0-dadc-4f19-bb47-de87654e820c"
      },
      "execution_count": 12,
      "outputs": [
        {
          "output_type": "stream",
          "name": "stdout",
          "text": [
            "[0.15872278 0.68010884 0.16116839]\n"
          ]
        }
      ]
    },
    {
      "cell_type": "markdown",
      "source": [
        "일반적으로 그레이디언트 부스팅이 랜덤 포레스트보다 조금 더 높은 성능을 얻을 수 있다. 하지만 순서대로 트리를 추가하기 때문에 훈련 속도가 느리다.  \n",
        "`GradientBoostingClassifier`에는 n_jobs 매개변수가 없다. "
      ],
      "metadata": {
        "id": "1ZwQgEAIfaSy"
      }
    },
    {
      "cell_type": "markdown",
      "source": [
        "그레이디언트 부스팅의 회귀 버전은 `GradientBoostingRegressor`"
      ],
      "metadata": {
        "id": "yQhaMVohfrg9"
      }
    },
    {
      "cell_type": "markdown",
      "source": [
        "## 히스토그램 기반 그레이디언트 부스팅"
      ],
      "metadata": {
        "id": "0q-kyBWpo3By"
      }
    },
    {
      "cell_type": "markdown",
      "source": [
        "**히스토그램 기반 그레이디언트 부스팅 Histogram-based Gradient Boosting**은 입력 특성을 256개의 구간으로 나눈다.  \n",
        "입력에 누락된 특성이 있더라도 따로 전처리할 필요가 없다."
      ],
      "metadata": {
        "id": "LANhnJgcf0nw"
      }
    },
    {
      "cell_type": "markdown",
      "source": [
        "`HistGradientBoostingClassifier`는 트리의 개수를 지정하는데 `n_estimators` 대신 부스팅 반복 횟수를 지정하는 `max_iter`를 사용한다."
      ],
      "metadata": {
        "id": "pgQe-rUegR0S"
      }
    },
    {
      "cell_type": "code",
      "source": [
        "from sklearn.experimental import enable_hist_gradient_boosting\n",
        "import sklearn.ensemble \n",
        "\n",
        "hgb = HistGradientBoostingClassifier(random_state=42)\n",
        "scores = cross_validate(hgb, train_input, train_target, return_train_score=True)\n",
        "\n",
        "print(np.mean(scores['train_score']), np.mean(scores['test_score']))"
      ],
      "metadata": {
        "colab": {
          "base_uri": "https://localhost:8080/"
        },
        "id": "5L7WNl_egiUI",
        "outputId": "66890bb9-d40e-42c7-99f0-7db329e4d561"
      },
      "execution_count": 14,
      "outputs": [
        {
          "output_type": "stream",
          "name": "stdout",
          "text": [
            "0.9321723946453317 0.8801241948619236\n"
          ]
        }
      ]
    },
    {
      "cell_type": "code",
      "source": [
        "hgb.fit(train_input, train_target)\n",
        "print(rf.feature_importances_)"
      ],
      "metadata": {
        "colab": {
          "base_uri": "https://localhost:8080/"
        },
        "id": "SYU6JyQBhoHF",
        "outputId": "3a44559f-2aae-40e3-e471-ebf5898e84ed"
      },
      "execution_count": 15,
      "outputs": [
        {
          "output_type": "stream",
          "name": "stdout",
          "text": [
            "[0.23167441 0.50039841 0.26792718]\n"
          ]
        }
      ]
    },
    {
      "cell_type": "code",
      "source": [
        "hgb.score(test_input, test_target)"
      ],
      "metadata": {
        "id": "zetOrBVyo2_2",
        "colab": {
          "base_uri": "https://localhost:8080/"
        },
        "outputId": "1d4af87f-1525-4286-93ca-f41479e944bf"
      },
      "execution_count": 16,
      "outputs": [
        {
          "output_type": "execute_result",
          "data": {
            "text/plain": [
              "0.8723076923076923"
            ]
          },
          "metadata": {},
          "execution_count": 16
        }
      ]
    },
    {
      "cell_type": "markdown",
      "source": [
        "히스토그램 기반 그레이디언트 부스팅의 회귀 버전은 `HistGradientBoostingRegressor`"
      ],
      "metadata": {
        "id": "CKGDo9hLiJpN"
      }
    },
    {
      "cell_type": "markdown",
      "source": [
        "`XGBoost` 히스토그램 기반 그레이디언트 부스팅 알고리즘. `cross_validate()` 함수와 함께 사용 가능"
      ],
      "metadata": {
        "id": "OGXN7p0iiTkU"
      }
    },
    {
      "cell_type": "code",
      "source": [
        "from pandas.core.common import random_state\n",
        "from xgboost import XGBClassifier\n",
        "xgb = XGBClassifier(tree_method='hist', random_state=42)\n",
        "scores = cross_validate(xgb, train_input, train_target, return_train_score=True)\n",
        "print(np.mean(scores['train_score']), np.mean(scores['test_score']))"
      ],
      "metadata": {
        "colab": {
          "base_uri": "https://localhost:8080/"
        },
        "id": "2FVXrRGHiHjc",
        "outputId": "fbd2a9d4-e710-4fe0-8355-d6c8a9c98e2a"
      },
      "execution_count": 17,
      "outputs": [
        {
          "output_type": "stream",
          "name": "stdout",
          "text": [
            "0.8824322471423747 0.8726214185237284\n"
          ]
        }
      ]
    },
    {
      "cell_type": "markdown",
      "source": [
        "`LightGBM`"
      ],
      "metadata": {
        "id": "3kgbcxFao2-P"
      }
    },
    {
      "cell_type": "code",
      "source": [
        "from lightgbm import LGBMClassifier\n",
        "lgb = LGBMClassifier(random_state=42)\n",
        "scores = cross_validate(lgb, train_input, train_target, return_train_score=True, n_jobs=-1)\n",
        "print(np.mean(scores['train_score']), np.mean(scores['test_score']))"
      ],
      "metadata": {
        "id": "TmnCE_Bzo27_",
        "colab": {
          "base_uri": "https://localhost:8080/"
        },
        "outputId": "ac26886a-5c56-4604-ef06-1d1b8c305fa8"
      },
      "execution_count": 18,
      "outputs": [
        {
          "output_type": "stream",
          "name": "stdout",
          "text": [
            "0.9338079582727165 0.8789710890649293\n"
          ]
        }
      ]
    }
  ]
}
{
  "nbformat": 4,
  "nbformat_minor": 0,
  "metadata": {
    "colab": {
      "name": "4-2.ipynb",
      "provenance": [],
      "authorship_tag": "ABX9TyMjFYvBr00mP6lgOg9Ty/HL",
      "include_colab_link": true
    },
    "kernelspec": {
      "name": "python3",
      "display_name": "Python 3"
    },
    "language_info": {
      "name": "python"
    }
  },
  "cells": [
    {
      "cell_type": "markdown",
      "metadata": {
        "id": "view-in-github",
        "colab_type": "text"
      },
      "source": [
        "<a href=\"https://colab.research.google.com/github/All4Nothing/hg-mldl/blob/main/4_2.ipynb\" target=\"_parent\"><img src=\"https://colab.research.google.com/assets/colab-badge.svg\" alt=\"Open In Colab\"/></a>"
      ]
    },
    {
      "cell_type": "markdown",
      "source": [
        "# 확률적 경사 하강법"
      ],
      "metadata": {
        "id": "tyxNJpvx7Tfu"
      }
    },
    {
      "cell_type": "markdown",
      "source": [
        "## 점진적인 학습"
      ],
      "metadata": {
        "id": "iOg0oaEh9rD5"
      }
    },
    {
      "cell_type": "markdown",
      "source": [
        "훈련한 모델에 새로운 데이터에 대해서 조금씩 훈련하는 방식"
      ],
      "metadata": {
        "id": "dDOaVX4I_AiF"
      }
    },
    {
      "cell_type": "markdown",
      "source": [
        "대표즉으로 **확률적 경사 하강법 Stochastic Gradient Descent** 알고리즘이 있다"
      ],
      "metadata": {
        "id": "mubniZ51-_-x"
      }
    },
    {
      "cell_type": "markdown",
      "source": [
        "### 확률적 경사 하강법"
      ],
      "metadata": {
        "id": "FL5lhk2E_MFN"
      }
    },
    {
      "cell_type": "markdown",
      "source": [
        "훈련 세트에서 랜덤하게 하나의 샘플을 선택하여 가파른 경사를 조금씩 내려간다.  \n",
        "그 다음 훈련 세트에서 랜덤하게 또 다른 샘플을 하나 선택하여 경사를 조금 내려간다.  \n",
        "이런식으로 전체 샘플을 모두 사용할 때까지 계속한다"
      ],
      "metadata": {
        "id": "zzY1HxBf_QFC"
      }
    },
    {
      "cell_type": "markdown",
      "source": [
        "만족할만한 위치에 도달하지 못할 시 모든 샘플을 다시 채워 넣어 처음부터 다시 시작"
      ],
      "metadata": {
        "id": "q2waoXUT_y5u"
      }
    },
    {
      "cell_type": "markdown",
      "source": [
        "**에포크 epoch** 확률적 경사 하강법에서 훈련 세트를 한 번 모두 사용하는 과정"
      ],
      "metadata": {
        "id": "MfLpPQka_oZl"
      }
    },
    {
      "cell_type": "markdown",
      "source": [
        "**미니배치 경사 하강법 minibatch gradient descent**  여러 개의 샘플을 사용해 경사 하강법을 수행하는 방식"
      ],
      "metadata": {
        "id": "NglxwDhF_8yp"
      }
    },
    {
      "cell_type": "markdown",
      "source": [
        "**배치 경사 하강법 batch gradient descent** 한 번 경사로를 따라 이동하기 위해 전체 샘플을 사용  \n",
        "안정적인 방법이 될 수는 있어도 컴퓨터 자원을 많이 사용하게 됨"
      ],
      "metadata": {
        "id": "91ZMZ2JF_xid"
      }
    },
    {
      "cell_type": "markdown",
      "source": [
        "### 손실 함수"
      ],
      "metadata": {
        "id": "WvAASQ_-APPW"
      }
    },
    {
      "cell_type": "markdown",
      "source": [
        "**손실 함수 loss function**은 어떤 문제에서 머신러닝 알고리즘이 얼마나 엉터리인지를 측정하는 기준"
      ],
      "metadata": {
        "id": "DGdXn9m6An7e"
      }
    },
    {
      "cell_type": "markdown",
      "source": [
        "비용 함수 cost function은 훈련 세트에 있는 모든 샘플에 대한 손실 함수의 합을 말함"
      ],
      "metadata": {
        "id": "FVDPqbH5AwKw"
      }
    },
    {
      "cell_type": "markdown",
      "source": [
        "손실 함수는 연속적이어야 한다. 기술적으로 말하면 미분 가능해야 한다"
      ],
      "metadata": {
        "id": "nzMd824zA8Qa"
      }
    },
    {
      "cell_type": "markdown",
      "source": [
        "### 로지스틱 손실 함수"
      ],
      "metadata": {
        "id": "9nkvIFUIAscz"
      }
    },
    {
      "cell_type": "markdown",
      "source": [
        "'예측'과 '정답(타깃)'을 곱하고 음수로 바꾼 값을 손실 함수로 사용할 수 있음  \n",
        "샘플의 타깃이 음성 클래스라 0일 경우, 타깃을 양성 클래스처럼 1로 바꾸고, 예측값도 양성 클래스에 대한 예측으로 바꿈(1 - 예측), 음수로 바꿈."
      ],
      "metadata": {
        "id": "zEnL0VLXBEQz"
      }
    },
    {
      "cell_type": "markdown",
      "source": [
        "양성 클래스 (타깃 = 1)일 때 손실은 -log(예측 확률) 로 게산"
      ],
      "metadata": {
        "id": "vMLdCYgiCOgv"
      }
    },
    {
      "cell_type": "markdown",
      "source": [
        "**로지스틱 손실 함수 logistic loss function** 또는 **이진 크로스엔트로피 손실 함수 binary cross-entropy loss function**"
      ],
      "metadata": {
        "id": "OU-1vkYpCcVz"
      }
    },
    {
      "cell_type": "markdown",
      "source": [
        "다중 분류에서 사용하는 손실 함수를 **크로스엔트로피 손실 함수 cross-entropy loss function**"
      ],
      "metadata": {
        "id": "6-TisYN8Cp90"
      }
    },
    {
      "cell_type": "markdown",
      "source": [
        "회귀의 손실 함수는 **평균 제곱 오차(mean squared error)**를 많이 사용. 타깃에서 예측을 뺀 값을 제곱한 다음 모든 샘플에 평균한 값"
      ],
      "metadata": {
        "id": "yiTXzeajCmbT"
      }
    },
    {
      "cell_type": "markdown",
      "source": [
        "## SGDClassifier "
      ],
      "metadata": {
        "id": "1wigHu62C6yY"
      }
    },
    {
      "cell_type": "code",
      "source": [
        "import pandas as pd\n",
        "\n",
        "fish = pd.read_csv('https://bit.ly/fish_csv_data')"
      ],
      "metadata": {
        "id": "eIMBbFfXC-R_"
      },
      "execution_count": 1,
      "outputs": []
    },
    {
      "cell_type": "code",
      "source": [
        "fish_input = fish[['Weight','Length','Diagonal','Height','Width']].to_numpy()\n",
        "fish_target = fish['Species'].to_numpy()"
      ],
      "metadata": {
        "id": "PrEGS81LDCaZ"
      },
      "execution_count": 2,
      "outputs": []
    },
    {
      "cell_type": "code",
      "source": [
        "from sklearn.model_selection import train_test_split\n",
        "\n",
        "train_input, test_input, train_target, test_target = train_test_split(\n",
        "    fish_input, fish_target, random_state=42)"
      ],
      "metadata": {
        "id": "k8v43yhoDElW"
      },
      "execution_count": 3,
      "outputs": []
    },
    {
      "cell_type": "code",
      "source": [
        "from sklearn.preprocessing import StandardScaler\n",
        "\n",
        "ss = StandardScaler()\n",
        "ss.fit(train_input)\n",
        "train_scaled = ss.transform(train_input)\n",
        "test_scaled = ss.transform(test_input)"
      ],
      "metadata": {
        "id": "n1nM83IbDF8I"
      },
      "execution_count": 4,
      "outputs": []
    },
    {
      "cell_type": "markdown",
      "source": [
        "사이킷런 확률적 경사 하강법 `SGDClassifier`"
      ],
      "metadata": {
        "id": "uFo-E4ewDMLR"
      }
    },
    {
      "cell_type": "code",
      "source": [
        "from sklearn.linear_model import SGDClassifier"
      ],
      "metadata": {
        "id": "C6qWKiGdDJRo"
      },
      "execution_count": 5,
      "outputs": []
    },
    {
      "cell_type": "markdown",
      "source": [
        "`loss = '손실함수'` `max_iter='수행할 epoch 횟수'`"
      ],
      "metadata": {
        "id": "xGHeL_YnDpnu"
      }
    },
    {
      "cell_type": "code",
      "source": [
        "sc = SGDClassifier(loss='log', max_iter = 10, random_state=42)\n",
        "sc.fit(train_scaled, train_target)\n",
        "print(sc.score(train_scaled, train_target))\n",
        "print(sc.score(test_scaled, test_target))"
      ],
      "metadata": {
        "colab": {
          "base_uri": "https://localhost:8080/"
        },
        "id": "YKrL5WlYDmWr",
        "outputId": "e6da67d0-3fb4-4cbb-d909-ebbd75e35261"
      },
      "execution_count": 6,
      "outputs": [
        {
          "output_type": "stream",
          "name": "stdout",
          "text": [
            "0.773109243697479\n",
            "0.775\n"
          ]
        },
        {
          "output_type": "stream",
          "name": "stderr",
          "text": [
            "/usr/local/lib/python3.7/dist-packages/sklearn/linear_model/_stochastic_gradient.py:700: ConvergenceWarning: Maximum number of iteration reached before convergence. Consider increasing max_iter to improve the fit.\n",
            "  ConvergenceWarning,\n"
          ]
        }
      ]
    },
    {
      "cell_type": "markdown",
      "source": [
        "ConvergenceWarning 모델이 충분히 수렴하지 않았다. `max_iter` 매개변수의 값을 늘려 주는 것이 좋다"
      ],
      "metadata": {
        "id": "QuXTru0-EGGL"
      }
    },
    {
      "cell_type": "markdown",
      "source": [
        "`partial_fit()` 모델을 이어서 훈련할 때 사용하는 메서드"
      ],
      "metadata": {
        "id": "9AckwrOREQlH"
      }
    },
    {
      "cell_type": "code",
      "source": [
        "sc.partial_fit(train_scaled, train_target)\n",
        "print(sc.score(train_scaled, train_target))\n",
        "print(sc.score(test_scaled, test_target))"
      ],
      "metadata": {
        "colab": {
          "base_uri": "https://localhost:8080/"
        },
        "id": "qPMIT5gkEASb",
        "outputId": "6f006235-709c-481b-c3b1-d5d86cdd1b7c"
      },
      "execution_count": 7,
      "outputs": [
        {
          "output_type": "stream",
          "name": "stdout",
          "text": [
            "0.8151260504201681\n",
            "0.85\n"
          ]
        }
      ]
    },
    {
      "cell_type": "markdown",
      "source": [
        "## 에포크와 과대/과소적합"
      ],
      "metadata": {
        "id": "E7hbzCUUE83N"
      }
    },
    {
      "cell_type": "markdown",
      "source": [
        "적은 에포크 횟수 동안에 훈련한 모델은 훈련 세트와 테스트 세트에 잘 맞지 않는 과소적합된 모델일 가능성이 높다.  \n",
        "많은 에포크 횟수 동안에 훈련한 모델은 훈련 세트에 너무 잘 맞아 테스트 세트에는 오히려 점수가 나쁜 과대적합된 모델일 가능성이 높다."
      ],
      "metadata": {
        "id": "MRywVD_yE_ce"
      }
    },
    {
      "cell_type": "markdown",
      "source": [
        "![epoch accuracy curve](https://forum-cdn.knime.com/uploads/default/c03f5837ac919e7152bdb84b2891d5d0e2674dbf)"
      ],
      "metadata": {
        "id": "7pOPy7IMFdSW"
      }
    },
    {
      "cell_type": "markdown",
      "source": [
        "**조기 종료 early stopping** 과대적합이 시작하기 전에 훈련을 멈추는 것"
      ],
      "metadata": {
        "id": "UeIav66TFkph"
      }
    },
    {
      "cell_type": "code",
      "source": [
        "import numpy as np\n",
        "sc = SGDClassifier(loss='log', random_state=42)\n",
        "train_score = []\n",
        "test_score = []\n",
        "classes = np.unique(train_target)"
      ],
      "metadata": {
        "id": "XlfeLoe1E3ZL"
      },
      "execution_count": 13,
      "outputs": []
    },
    {
      "cell_type": "markdown",
      "source": [
        "파이썬의 `_`는 특별한 변수. 나중에 사용하지 않고 그냥 버리는 값을 넣어두는 용도로 사용"
      ],
      "metadata": {
        "id": "mqvOYtCJGJts"
      }
    },
    {
      "cell_type": "code",
      "source": [
        "for _ in range(0, 300):\n",
        "  sc.partial_fit(train_scaled, train_target, classes=classes)\n",
        "  train_score.append(sc.score(train_scaled, train_target))\n",
        "  test_score.append(sc.score(test_scaled, test_target))"
      ],
      "metadata": {
        "id": "EKW46TP7F1gJ"
      },
      "execution_count": 14,
      "outputs": []
    },
    {
      "cell_type": "code",
      "source": [
        "import matplotlib.pyplot as plt\n",
        "plt.plot(train_score)\n",
        "plt.plot(test_score)\n",
        "plt.show()"
      ],
      "metadata": {
        "colab": {
          "base_uri": "https://localhost:8080/",
          "height": 265
        },
        "id": "Thc5w1HAGEIg",
        "outputId": "bd2bd4c2-cf47-4be3-efb7-b5210517507e"
      },
      "execution_count": 15,
      "outputs": [
        {
          "output_type": "display_data",
          "data": {
            "text/plain": [
              "<Figure size 432x288 with 1 Axes>"
            ],
            "image/png": "[encoded data removed]"
          },
          "metadata": {
            "needs_background": "light"
          }
        }
      ]
    },
    {
      "cell_type": "markdown",
      "source": [
        "100번 째 에포크가 적절한 반복 횟수로 보임"
      ],
      "metadata": {
        "id": "_m-fS8FTGifZ"
      }
    },
    {
      "cell_type": "code",
      "source": [
        "sc = SGDClassifier(loss='log', max_iter=100, tol=None, random_state=42)\n",
        "sc.fit(train_scaled, train_target)\n",
        "print(sc.score(train_scaled, train_target))\n",
        "print(sc.score(test_scaled, test_target))"
      ],
      "metadata": {
        "colab": {
          "base_uri": "https://localhost:8080/"
        },
        "id": "3xaQtEFvGXRV",
        "outputId": "3e1b151c-96ee-42df-a0f1-df985cbd1367"
      },
      "execution_count": 16,
      "outputs": [
        {
          "output_type": "stream",
          "name": "stdout",
          "text": [
            "0.957983193277311\n",
            "0.925\n"
          ]
        }
      ]
    },
    {
      "cell_type": "markdown",
      "source": [
        "SGDRegressor 확률적 경사 하강법을 사용한 회귀 알고리즘  \n",
        "사용 방법은 SGDClassifier와 동일하다"
      ],
      "metadata": {
        "id": "ijj9D4SGHC4P"
      }
    },
    {
      "cell_type": "markdown",
      "source": [
        "SGDClassifier의 loss 매개 변수의 기본값은 'hinge'이다. **힌지 손실 hindge loss**은 **서포트 벡터 머신 support vector machine**이라 불리는 또 다른 머신러닝 알고리즘읠 위한 손실 함수"
      ],
      "metadata": {
        "id": "cfG36JX1HLyd"
      }
    },
    {
      "cell_type": "code",
      "source": [
        "sc = SGDClassifier(loss='hinge', max_iter=100, tol=None, random_state=42)\n",
        "sc.fit(train_scaled, train_target)\n",
        "print(sc.score(train_scaled, train_target))\n",
        "print(sc.score(test_scaled, test_target))"
      ],
      "metadata": {
        "colab": {
          "base_uri": "https://localhost:8080/"
        },
        "id": "Mk-q8PpRG6de",
        "outputId": "6e96bcad-e040-4b97-8786-8e1d3c060e20"
      },
      "execution_count": 17,
      "outputs": [
        {
          "output_type": "stream",
          "name": "stdout",
          "text": [
            "0.9495798319327731\n",
            "0.925\n"
          ]
        }
      ]
    }
  ]
}
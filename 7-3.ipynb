{
  "nbformat": 4,
  "nbformat_minor": 0,
  "metadata": {
    "colab": {
      "name": "7-3.ipynb",
      "provenance": [],
      "collapsed_sections": [],
      "authorship_tag": "ABX9TyPnLdn05D65YisHq1yKAdLT",
      "include_colab_link": true
    },
    "kernelspec": {
      "name": "python3",
      "display_name": "Python 3"
    },
    "language_info": {
      "name": "python"
    },
    "accelerator": "GPU",
    "gpuClass": "standard"
  },
  "cells": [
    {
      "cell_type": "markdown",
      "metadata": {
        "id": "view-in-github",
        "colab_type": "text"
      },
      "source": [
        "<a href=\"https://colab.research.google.com/github/All4Nothing/hg-mldl/blob/main/7-3.ipynb\" target=\"_parent\"><img src=\"https://colab.research.google.com/assets/colab-badge.svg\" alt=\"Open In Colab\"/></a>"
      ]
    },
    {
      "cell_type": "markdown",
      "source": [
        "# 7-3 신경망 모델 훈련"
      ],
      "metadata": {
        "id": "PB_6UhCGYimv"
      }
    },
    {
      "cell_type": "markdown",
      "source": [
        "# 손실 곡선"
      ],
      "metadata": {
        "id": "vjTW6rJkYR8U"
      }
    },
    {
      "cell_type": "markdown",
      "source": [
        "케라스의 `fit()` 메서드는 `History`클래스 객체를 반환한다.  \n",
        "`History` 객체에는 훈련 과정에서 계산한 지표, 즉 손실과 정확도 값이 저장되어 있다."
      ],
      "metadata": {
        "id": "eRUrOUNxYsK4"
      }
    },
    {
      "cell_type": "code",
      "source": [
        "from tensorflow import keras\n",
        "from sklearn.model_selection import train_test_split\n",
        "\n",
        "(train_input, train_target), (test_input, test_target) = keras.datasets.fashion_mnist.load_data()\n",
        "train_scaled = train_input / 255.0\n",
        "train_scaled, val_scaled, train_target, val_target = train_test_split(train_scaled, train_target, test_size=0.2, random_state=42)"
      ],
      "metadata": {
        "colab": {
          "base_uri": "https://localhost:8080/"
        },
        "id": "jqSru15wYnLJ",
        "outputId": "7c7353cc-b38b-4a1e-a2c4-1f639f901f27"
      },
      "execution_count": 2,
      "outputs": [
        {
          "output_type": "stream",
          "name": "stdout",
          "text": [
            "Downloading data from https://storage.googleapis.com/tensorflow/tf-keras-datasets/train-labels-idx1-ubyte.gz\n",
            "32768/29515 [=================================] - 0s 0us/step\n",
            "40960/29515 [=========================================] - 0s 0us/step\n",
            "Downloading data from https://storage.googleapis.com/tensorflow/tf-keras-datasets/train-images-idx3-ubyte.gz\n",
            "26427392/26421880 [==============================] - 0s 0us/step\n",
            "26435584/26421880 [==============================] - 0s 0us/step\n",
            "Downloading data from https://storage.googleapis.com/tensorflow/tf-keras-datasets/t10k-labels-idx1-ubyte.gz\n",
            "16384/5148 [===============================================================================================] - 0s 0us/step\n",
            "Downloading data from https://storage.googleapis.com/tensorflow/tf-keras-datasets/t10k-images-idx3-ubyte.gz\n",
            "4423680/4422102 [==============================] - 0s 0us/step\n",
            "4431872/4422102 [==============================] - 0s 0us/step\n"
          ]
        }
      ]
    },
    {
      "cell_type": "code",
      "source": [
        "def model_fn(a_layer=None):\n",
        "  model = keras.Sequential()\n",
        "  model.add(keras.layers.Flatten(input_shape=(28, 28)))\n",
        "  model.add(keras.layers.Dense(100, activation='relu'))\n",
        "  if a_layer:\n",
        "    model.add(a_layer)\n",
        "  model.add(keras.layers.Dense(10, activation='softmax'))\n",
        "  return model"
      ],
      "metadata": {
        "id": "_jWTmzyWZfb5"
      },
      "execution_count": 3,
      "outputs": []
    },
    {
      "cell_type": "code",
      "source": [
        "model = model_fn()\n",
        "model.summary()"
      ],
      "metadata": {
        "colab": {
          "base_uri": "https://localhost:8080/"
        },
        "id": "BZ1_ncy0Z3lE",
        "outputId": "f2bd96dc-079f-4d04-eaf3-f8a6392cccb6"
      },
      "execution_count": 4,
      "outputs": [
        {
          "output_type": "stream",
          "name": "stdout",
          "text": [
            "Model: \"sequential\"\n",
            "_________________________________________________________________\n",
            " Layer (type)                Output Shape              Param #   \n",
            "=================================================================\n",
            " flatten (Flatten)           (None, 784)               0         \n",
            "                                                                 \n",
            " dense (Dense)               (None, 100)               78500     \n",
            "                                                                 \n",
            " dense_1 (Dense)             (None, 10)                1010      \n",
            "                                                                 \n",
            "=================================================================\n",
            "Total params: 79,510\n",
            "Trainable params: 79,510\n",
            "Non-trainable params: 0\n",
            "_________________________________________________________________\n"
          ]
        }
      ]
    },
    {
      "cell_type": "code",
      "source": [
        "model.compile(loss='sparse_categorical_crossentropy', metrics='accuracy')\n",
        "history = model.fit(train_scaled, train_target, epochs=5, verbose=0)"
      ],
      "metadata": {
        "id": "Vokh4G_IaCcK"
      },
      "execution_count": 5,
      "outputs": []
    },
    {
      "cell_type": "markdown",
      "source": [
        "`verbose` 매개변수는 훈련 과정 출력을 조절한다. 기본값은 1로 에포크마다 진행 막대와 함께 손실 등의 지표가 출력된다.  \n",
        "2로 바꾸면 진행 막대를 빼고 출력한다.  \n",
        "verbose=0은 훈련 과정을 나타내지 않는다."
      ],
      "metadata": {
        "id": "V40POaOnaXkz"
      }
    },
    {
      "cell_type": "markdown",
      "source": [
        "`history`객체에는 훈련 측정값이 담겨 있는 `history`딕셔너리가 들어 있다.  \n",
        "정확도는 `compile()` 메서드에서 `metrics`매개 변수에 `accuracy`를 추가했기 때문에 history 속성에 포함되어 있다."
      ],
      "metadata": {
        "id": "ujlsCqt3a_Wy"
      }
    },
    {
      "cell_type": "code",
      "source": [
        "print(history.history.keys())"
      ],
      "metadata": {
        "colab": {
          "base_uri": "https://localhost:8080/"
        },
        "id": "2ijsltUEaTD6",
        "outputId": "72c0c444-f3d2-4d0d-a19b-9381bfda9057"
      },
      "execution_count": 6,
      "outputs": [
        {
          "output_type": "stream",
          "name": "stdout",
          "text": [
            "dict_keys(['loss', 'accuracy'])\n"
          ]
        }
      ]
    },
    {
      "cell_type": "code",
      "source": [
        "import matplotlib.pyplot as plt\n",
        "plt.plot(history.history['loss'])\n",
        "plt.xlabel('epoch')\n",
        "plt.ylabel('loss')\n",
        "plt.show()"
      ],
      "metadata": {
        "colab": {
          "base_uri": "https://localhost:8080/",
          "height": 279
        },
        "id": "Qx8Vz3LSa8HP",
        "outputId": "c61c732d-5e57-4322-d3cb-00a40085de79"
      },
      "execution_count": 7,
      "outputs": [
        {
          "output_type": "display_data",
          "data": {
            "text/plain": [
              "<Figure size 432x288 with 1 Axes>"
            ],
            "image/png": "[encoded data removed]"
          },
          "metadata": {
            "needs_background": "light"
          }
        }
      ]
    },
    {
      "cell_type": "code",
      "source": [
        "plt.plot(history.history['accuracy'])\n",
        "plt.xlabel('epoch')\n",
        "plt.ylabel('accuracy')\n",
        "plt.show()"
      ],
      "metadata": {
        "colab": {
          "base_uri": "https://localhost:8080/",
          "height": 279
        },
        "id": "psi0gjxrbWKo",
        "outputId": "7f7294d8-c4c9-4b96-cdc7-bbe916f68efd"
      },
      "execution_count": 8,
      "outputs": [
        {
          "output_type": "display_data",
          "data": {
            "text/plain": [
              "<Figure size 432x288 with 1 Axes>"
            ],
            "image/png": "[encoded data removed]"
          },
          "metadata": {
            "needs_background": "light"
          }
        }
      ]
    },
    {
      "cell_type": "code",
      "source": [
        "model = model_fn()\n",
        "model.compile(loss='sparse_categorical_crossentropy', metrics='accuracy')\n",
        "history = model.fit(train_scaled, train_target, epochs=20, verbose = 0)"
      ],
      "metadata": {
        "id": "mrKwJrKJbgHE"
      },
      "execution_count": 9,
      "outputs": []
    },
    {
      "cell_type": "code",
      "source": [
        "plt.plot(history.history['loss'])\n",
        "plt.xlabel('epoch')\n",
        "plt.ylabel('loss')\n",
        "plt.show()"
      ],
      "metadata": {
        "colab": {
          "base_uri": "https://localhost:8080/",
          "height": 283
        },
        "id": "uTpUmntFbysl",
        "outputId": "a959b694-f3e4-4114-d559-917ca3c531eb"
      },
      "execution_count": 10,
      "outputs": [
        {
          "output_type": "display_data",
          "data": {
            "text/plain": [
              "<Figure size 432x288 with 1 Axes>"
            ],
            "image/png": "[encoded data removed]"
          },
          "metadata": {
            "needs_background": "light"
          }
        }
      ]
    },
    {
      "cell_type": "markdown",
      "source": [
        "## 검증 손실"
      ],
      "metadata": {
        "id": "slwkVa1KcRwk"
      }
    },
    {
      "cell_type": "markdown",
      "source": [
        "인공 신경망 모델이 최적화하는 대상은 정확도가 아니라 손실 함수이다. 손실 감소에 비례하여 정확도가 높아지지 않는 경우도 있따. 따라서 모델이 잘 훈련되었는지 판단하려면 정확도보다는 손실 함수의 값을 확인하는 것이 더 낫다."
      ],
      "metadata": {
        "id": "oJG6uyfWcn-i"
      }
    },
    {
      "cell_type": "markdown",
      "source": [
        "에포크마다 검증 손실을 계산하기 위해 케라스 모델의 `fit()` 메서드에 검증 데이터를 전달할 수 있다. `validation_data` 매개변수에 검증에 사용할 입력과 타깃값을 튜플로 만들어 전달한다."
      ],
      "metadata": {
        "id": "8viZLKHbc_u9"
      }
    },
    {
      "cell_type": "code",
      "source": [
        "model = model_fn()\n",
        "model.compile(loss='sparse_categorical_crossentropy', metrics='accuracy')\n",
        "history = model.fit(train_scaled, train_target, epochs=20, verbose=0, validation_data=(val_scaled, val_target))"
      ],
      "metadata": {
        "id": "wn3OwMWzcGwa"
      },
      "execution_count": 11,
      "outputs": []
    },
    {
      "cell_type": "code",
      "source": [
        "print(history.history.keys())"
      ],
      "metadata": {
        "colab": {
          "base_uri": "https://localhost:8080/"
        },
        "id": "EqaxfMNgc84d",
        "outputId": "54cabfb4-a8c4-43b4-c06b-3e5a04d16e93"
      },
      "execution_count": 12,
      "outputs": [
        {
          "output_type": "stream",
          "name": "stdout",
          "text": [
            "dict_keys(['loss', 'accuracy', 'val_loss', 'val_accuracy'])\n"
          ]
        }
      ]
    },
    {
      "cell_type": "code",
      "source": [
        "plt.plot(history.history['loss'])\n",
        "plt.plot(history.history['val_loss'])\n",
        "plt.xlabel('epoch')\n",
        "plt.ylabel('loss')\n",
        "plt.legend(['train', 'val'])\n",
        "plt.show()"
      ],
      "metadata": {
        "colab": {
          "base_uri": "https://localhost:8080/",
          "height": 279
        },
        "id": "AEdFLm-eeNvQ",
        "outputId": "5a2f7d9f-fe22-4be3-ed59-522c01b0e007"
      },
      "execution_count": 13,
      "outputs": [
        {
          "output_type": "display_data",
          "data": {
            "text/plain": [
              "<Figure size 432x288 with 1 Axes>"
            ],
            "image/png": "[encoded data removed]"
          },
          "metadata": {
            "needs_background": "light"
          }
        }
      ]
    },
    {
      "cell_type": "markdown",
      "source": [
        "초기에 검증 손실이 감소하다가 다시 상승한다. 훈련 손실은 꾸준히 감소하기 때문에 전형적이 ㄴ과대적합 모델이 만들어진다.  \n",
        "검증 손실이 상승하는 시점을 가능한 뒤로 늦추면 검증 세트에 대한 손실이 줄어들 뿐만 아니라 검증 세트에 대한 정확도도 증가할 것이다."
      ],
      "metadata": {
        "id": "M_E3j5Vkej9g"
      }
    },
    {
      "cell_type": "code",
      "source": [
        "model = model_fn()\n",
        "model.compile(optimizer='adam', loss='sparse_categorical_crossentropy', metrics='accuracy')\n",
        "history = model.fit(train_scaled, train_target, epochs=20, verbose=0, validation_data=(val_scaled, val_target))"
      ],
      "metadata": {
        "id": "s4mWUJ_vebNr"
      },
      "execution_count": 15,
      "outputs": []
    },
    {
      "cell_type": "code",
      "source": [
        "plt.plot(history.history['loss'])\n",
        "plt.plot(history.history['val_loss'])\n",
        "plt.xlabel('epoch')\n",
        "plt.ylabel('loss')\n",
        "plt.legend(['train', 'val'])\n",
        "plt.show()"
      ],
      "metadata": {
        "colab": {
          "base_uri": "https://localhost:8080/",
          "height": 281
        },
        "id": "fBL_oVGufj_M",
        "outputId": "2317e285-dcbc-48e9-c445-847797d7d1c4"
      },
      "execution_count": 16,
      "outputs": [
        {
          "output_type": "display_data",
          "data": {
            "text/plain": [
              "<Figure size 432x288 with 1 Axes>"
            ],
            "image/png": "[encoded data removed]"
          },
          "metadata": {
            "needs_background": "light"
          }
        }
      ]
    },
    {
      "cell_type": "markdown",
      "source": [
        "`Adam` 옵티마이적 이 데이터셋에 잘 맞는다는 것을 보여준다"
      ],
      "metadata": {
        "id": "0DWy788zgMko"
      }
    },
    {
      "cell_type": "markdown",
      "source": [
        "## 드롭아웃"
      ],
      "metadata": {
        "id": "hm6cLqM9gHWu"
      }
    },
    {
      "cell_type": "markdown",
      "source": [
        "**드롭아웃 dropout**은 훈련 과정에서 층에 있는 일부 뉴런을 랜덤하게 꺼서(즉 뉴런의 출력을 0으로 만들어) 과대적합을 막는다."
      ],
      "metadata": {
        "id": "3bDHYGf1gSQg"
      }
    },
    {
      "cell_type": "markdown",
      "source": [
        "뉴런은 랜덤하게 드롭아웃 되고 얼마나 많은 뉴런을 드롭할지는 또 다른 하이퍼파라미터이다.  \n",
        "이전 층의 일부 뉴런이 랜덤하게 꺼지면 특정 뉴런에 과대하게 의존하는 것을 줄일 수 있고 모든 입력에 대해 주의를 기울여야 한다.  \n",
        "일부 뉴런의 출력이 없을 수 있다는 것을 감안하면 이 신경망은 더 안정적인 예측을 만들 수 있다."
      ],
      "metadata": {
        "id": "iEEL0S2ZhFFU"
      }
    },
    {
      "cell_type": "code",
      "source": [
        "model = model_fn(keras.layers.Dropout(0.3))\n",
        "model.summary()"
      ],
      "metadata": {
        "colab": {
          "base_uri": "https://localhost:8080/"
        },
        "id": "OQmmBfS7gRu0",
        "outputId": "ce6d95bf-2ccf-4568-8c64-4c7c0c7acc28"
      },
      "execution_count": 18,
      "outputs": [
        {
          "output_type": "stream",
          "name": "stdout",
          "text": [
            "Model: \"sequential_5\"\n",
            "_________________________________________________________________\n",
            " Layer (type)                Output Shape              Param #   \n",
            "=================================================================\n",
            " flatten_5 (Flatten)         (None, 784)               0         \n",
            "                                                                 \n",
            " dense_10 (Dense)            (None, 100)               78500     \n",
            "                                                                 \n",
            " dropout (Dropout)           (None, 100)               0         \n",
            "                                                                 \n",
            " dense_11 (Dense)            (None, 10)                1010      \n",
            "                                                                 \n",
            "=================================================================\n",
            "Total params: 79,510\n",
            "Trainable params: 79,510\n",
            "Non-trainable params: 0\n",
            "_________________________________________________________________\n"
          ]
        }
      ]
    },
    {
      "cell_type": "markdown",
      "source": [
        "훈련이 끝난 뒤에 평가나 예측을 수행할 때는 드롭아웃을 적용하지 말아야 한다. 훈련된 모든 뉴런을 사용해야 올바른 예측을 수행할 수 있다.  \n",
        "텐서플로와 케라스는 모델을 평가와 예측에 사용할 때는 자동으로 드롭아웃을 적용하지 않는다. "
      ],
      "metadata": {
        "id": "0F5pgT7ThuH_"
      }
    },
    {
      "cell_type": "code",
      "source": [
        "model.compile(optimizer='adam', loss='sparse_categorical_crossentropy', metrics='accuracy')\n",
        "history = model.fit(train_scaled, train_target, epochs=20, verbose=2, validation_data=(val_scaled, val_target))"
      ],
      "metadata": {
        "colab": {
          "base_uri": "https://localhost:8080/"
        },
        "id": "TpUpV-1KhgUv",
        "outputId": "f5b11976-0e2e-42b8-b867-82449837b5ef"
      },
      "execution_count": 22,
      "outputs": [
        {
          "output_type": "stream",
          "name": "stdout",
          "text": [
            "Epoch 1/20\n",
            "1500/1500 - 4s - loss: 0.5980 - accuracy: 0.7904 - val_loss: 0.4573 - val_accuracy: 0.8312 - 4s/epoch - 2ms/step\n",
            "Epoch 2/20\n",
            "1500/1500 - 3s - loss: 0.4397 - accuracy: 0.8419 - val_loss: 0.3996 - val_accuracy: 0.8550 - 3s/epoch - 2ms/step\n",
            "Epoch 3/20\n",
            "1500/1500 - 3s - loss: 0.4034 - accuracy: 0.8542 - val_loss: 0.3669 - val_accuracy: 0.8652 - 3s/epoch - 2ms/step\n",
            "Epoch 4/20\n",
            "1500/1500 - 3s - loss: 0.3798 - accuracy: 0.8601 - val_loss: 0.3522 - val_accuracy: 0.8708 - 3s/epoch - 2ms/step\n",
            "Epoch 5/20\n",
            "1500/1500 - 3s - loss: 0.3642 - accuracy: 0.8659 - val_loss: 0.3427 - val_accuracy: 0.8766 - 3s/epoch - 2ms/step\n",
            "Epoch 6/20\n",
            "1500/1500 - 3s - loss: 0.3513 - accuracy: 0.8713 - val_loss: 0.3345 - val_accuracy: 0.8769 - 3s/epoch - 2ms/step\n",
            "Epoch 7/20\n",
            "1500/1500 - 3s - loss: 0.3417 - accuracy: 0.8749 - val_loss: 0.3451 - val_accuracy: 0.8726 - 3s/epoch - 2ms/step\n",
            "Epoch 8/20\n",
            "1500/1500 - 3s - loss: 0.3332 - accuracy: 0.8761 - val_loss: 0.3381 - val_accuracy: 0.8777 - 3s/epoch - 2ms/step\n",
            "Epoch 9/20\n",
            "1500/1500 - 3s - loss: 0.3233 - accuracy: 0.8804 - val_loss: 0.3352 - val_accuracy: 0.8783 - 3s/epoch - 2ms/step\n",
            "Epoch 10/20\n",
            "1500/1500 - 3s - loss: 0.3186 - accuracy: 0.8819 - val_loss: 0.3301 - val_accuracy: 0.8796 - 3s/epoch - 2ms/step\n",
            "Epoch 11/20\n",
            "1500/1500 - 3s - loss: 0.3085 - accuracy: 0.8855 - val_loss: 0.3204 - val_accuracy: 0.8813 - 3s/epoch - 2ms/step\n",
            "Epoch 12/20\n",
            "1500/1500 - 3s - loss: 0.3071 - accuracy: 0.8855 - val_loss: 0.3217 - val_accuracy: 0.8859 - 3s/epoch - 2ms/step\n",
            "Epoch 13/20\n",
            "1500/1500 - 3s - loss: 0.2991 - accuracy: 0.8889 - val_loss: 0.3198 - val_accuracy: 0.8848 - 3s/epoch - 2ms/step\n",
            "Epoch 14/20\n",
            "1500/1500 - 3s - loss: 0.2950 - accuracy: 0.8903 - val_loss: 0.3134 - val_accuracy: 0.8862 - 3s/epoch - 2ms/step\n",
            "Epoch 15/20\n",
            "1500/1500 - 3s - loss: 0.2893 - accuracy: 0.8908 - val_loss: 0.3106 - val_accuracy: 0.8892 - 3s/epoch - 2ms/step\n",
            "Epoch 16/20\n",
            "1500/1500 - 3s - loss: 0.2875 - accuracy: 0.8917 - val_loss: 0.3161 - val_accuracy: 0.8863 - 3s/epoch - 2ms/step\n",
            "Epoch 17/20\n",
            "1500/1500 - 3s - loss: 0.2821 - accuracy: 0.8943 - val_loss: 0.3270 - val_accuracy: 0.8873 - 3s/epoch - 2ms/step\n",
            "Epoch 18/20\n",
            "1500/1500 - 3s - loss: 0.2801 - accuracy: 0.8947 - val_loss: 0.3242 - val_accuracy: 0.8852 - 3s/epoch - 2ms/step\n",
            "Epoch 19/20\n",
            "1500/1500 - 3s - loss: 0.2749 - accuracy: 0.8966 - val_loss: 0.3335 - val_accuracy: 0.8783 - 3s/epoch - 2ms/step\n",
            "Epoch 20/20\n",
            "1500/1500 - 4s - loss: 0.2737 - accuracy: 0.8969 - val_loss: 0.3162 - val_accuracy: 0.8882 - 4s/epoch - 2ms/step\n"
          ]
        }
      ]
    },
    {
      "cell_type": "code",
      "source": [
        "plt.plot(history.history['loss'])\n",
        "plt.plot(history.history['val_loss'])\n",
        "plt.xlabel('epoch')\n",
        "plt.ylabel('loss')\n",
        "plt.legend(['train', 'val'])\n",
        "plt.show()"
      ],
      "metadata": {
        "colab": {
          "base_uri": "https://localhost:8080/",
          "height": 279
        },
        "id": "0pVnF9_oiIvF",
        "outputId": "0c9be584-2e54-4e8c-cc5f-f692db53d9f7"
      },
      "execution_count": 23,
      "outputs": [
        {
          "output_type": "display_data",
          "data": {
            "text/plain": [
              "<Figure size 432x288 with 1 Axes>"
            ],
            "image/png": "[encoded data removed]"
          },
          "metadata": {
            "needs_background": "light"
          }
        }
      ]
    },
    {
      "cell_type": "markdown",
      "source": [
        "이 모델은 20번의 에포크 동안 훈련을 했디 때문에 다소 과대적합 되어 있다. 과대적합 되지 않는 모델을 얻기 위해 에포크 횟수를 10으로 하고 다시 훈련해야 한다."
      ],
      "metadata": {
        "id": "zbevUYXwiwde"
      }
    },
    {
      "cell_type": "markdown",
      "source": [
        "## 모델 저장과 복원"
      ],
      "metadata": {
        "id": "Wyf1fMYcioKq"
      }
    },
    {
      "cell_type": "code",
      "source": [
        "model = model_fn(keras.layers.Dropout(0.3))\n",
        "model.compile(optimizer='adam', loss='sparse_categorical_crossentropy', metrics='accuracy')\n",
        "history = model.fit(train_scaled, train_target, epochs=10, verbose=1, validation_data=(val_scaled, val_target))"
      ],
      "metadata": {
        "colab": {
          "base_uri": "https://localhost:8080/"
        },
        "id": "XtzTgMsKi61E",
        "outputId": "d40ae115-dad0-4b85-85c3-4344469249d4"
      },
      "execution_count": 26,
      "outputs": [
        {
          "output_type": "stream",
          "name": "stdout",
          "text": [
            "Epoch 1/10\n",
            "1500/1500 [==============================] - 4s 3ms/step - loss: 0.5907 - accuracy: 0.7917 - val_loss: 0.4272 - val_accuracy: 0.8441\n",
            "Epoch 2/10\n",
            "1500/1500 [==============================] - 4s 3ms/step - loss: 0.4427 - accuracy: 0.8413 - val_loss: 0.3896 - val_accuracy: 0.8583\n",
            "Epoch 3/10\n",
            "1500/1500 [==============================] - 4s 3ms/step - loss: 0.4060 - accuracy: 0.8539 - val_loss: 0.3572 - val_accuracy: 0.8683\n",
            "Epoch 4/10\n",
            "1500/1500 [==============================] - 4s 3ms/step - loss: 0.3854 - accuracy: 0.8596 - val_loss: 0.3619 - val_accuracy: 0.8680\n",
            "Epoch 5/10\n",
            "1500/1500 [==============================] - 4s 3ms/step - loss: 0.3687 - accuracy: 0.8644 - val_loss: 0.3459 - val_accuracy: 0.8767\n",
            "Epoch 6/10\n",
            "1500/1500 [==============================] - 4s 3ms/step - loss: 0.3558 - accuracy: 0.8703 - val_loss: 0.3464 - val_accuracy: 0.8745\n",
            "Epoch 7/10\n",
            "1500/1500 [==============================] - 4s 2ms/step - loss: 0.3462 - accuracy: 0.8715 - val_loss: 0.3656 - val_accuracy: 0.8681\n",
            "Epoch 8/10\n",
            "1500/1500 [==============================] - 4s 3ms/step - loss: 0.3363 - accuracy: 0.8773 - val_loss: 0.3359 - val_accuracy: 0.8793\n",
            "Epoch 9/10\n",
            "1500/1500 [==============================] - 4s 3ms/step - loss: 0.3296 - accuracy: 0.8773 - val_loss: 0.3320 - val_accuracy: 0.8785\n",
            "Epoch 10/10\n",
            "1500/1500 [==============================] - 4s 3ms/step - loss: 0.3241 - accuracy: 0.8796 - val_loss: 0.3361 - val_accuracy: 0.8747\n"
          ]
        }
      ]
    },
    {
      "cell_type": "markdown",
      "source": [
        "케라스 모델은 훈련된 모델의 파라미터를 저장하는 `save_weights()` 메서드를 제공한다  \n",
        "기본적으로 이 메서드는 텐서플로의 체크포인트 포맷으로 저장하지만 파일의 확장자가 '.h5'일 경우 HDF5 포맷으로 저장한다\n"
      ],
      "metadata": {
        "id": "t9vbtfjojL2R"
      }
    },
    {
      "cell_type": "code",
      "source": [
        "model.save_weights('model-weights.h5')"
      ],
      "metadata": {
        "id": "W8kMTlNnj3c0"
      },
      "execution_count": 27,
      "outputs": []
    },
    {
      "cell_type": "markdown",
      "source": [
        "모델 구조와 파라미터를 함께 저장하는 `save()` 메서드도 제공한다.  \n",
        "기본적으로 이 메서드는 텐서플로의 SavedModel 포맷으로 저장하지만 파일의 확장자가 '.h5'일 경우 HDF5 포맷으로 저장한다"
      ],
      "metadata": {
        "id": "My3df4OUj7kp"
      }
    },
    {
      "cell_type": "code",
      "source": [
        "model.save('model-whole.h5')"
      ],
      "metadata": {
        "id": "0I0oBy_gj6QO"
      },
      "execution_count": 28,
      "outputs": []
    },
    {
      "cell_type": "code",
      "source": [
        "!ls -al *.h5"
      ],
      "metadata": {
        "colab": {
          "base_uri": "https://localhost:8080/"
        },
        "id": "W3NnVa2ZkI0S",
        "outputId": "a815ca82-3a30-4afa-c401-d07bcc0362a3"
      },
      "execution_count": 29,
      "outputs": [
        {
          "output_type": "stream",
          "name": "stdout",
          "text": [
            "-rw-r--r-- 1 root root 333448 Jul 19 17:44 model-weights.h5\n",
            "-rw-r--r-- 1 root root 982664 Jul 19 17:45 model-whole.h5\n"
          ]
        }
      ]
    },
    {
      "cell_type": "code",
      "source": [
        "model = model_fn(keras.layers.Dropout(0.3))\n",
        "model.load_weights('model-weights.h5')"
      ],
      "metadata": {
        "id": "Hu46mkeFkLTs"
      },
      "execution_count": 30,
      "outputs": []
    },
    {
      "cell_type": "markdown",
      "source": [
        "케라스에서 예측을 수행하는 `predict()` 메서드는 사이킷런과 달리 샘플마다 10개의 클래스에 대한 확률을 반환한다(패션 MNIST 데이터셋이 다중 분류 문제이기 때문)  \n",
        "이진 분류 문제라면 양성 클래스에 대한 확률 하나만 반환한다."
      ],
      "metadata": {
        "id": "eREKz2lQkdI3"
      }
    },
    {
      "cell_type": "code",
      "source": [
        "import numpy as np\n",
        "val_labels = np.argmax(model.predict(val_scaled), axis=-1)\n",
        "print(np.mean(val_labels == val_target))"
      ],
      "metadata": {
        "colab": {
          "base_uri": "https://localhost:8080/"
        },
        "id": "E9K_ixNSkWz2",
        "outputId": "4066fb78-daee-401e-852a-988ce6c203f2"
      },
      "execution_count": 31,
      "outputs": [
        {
          "output_type": "stream",
          "name": "stdout",
          "text": [
            "0.8746666666666667\n"
          ]
        }
      ]
    },
    {
      "cell_type": "markdown",
      "source": [
        "`argmax()` 함수는 배열에서 가장 큰 값의 인덱스를 반환한다.  \n",
        "`argmax()` 함수의 `axis=-1`은 배열의 마지막 차원을 따라 최댓값을 고른다. 검증 세트는 2차원 배열이기 때문에 마지막 차원은 1이 된다.  \n",
        "`axis=1`이면 열을 따라 각 행의 최댓값의 인덱스를 선택하고  \n",
        "`axis=0`이면 행을 따라 각 열의 최댓값의 인덱스를 선택한다."
      ],
      "metadata": {
        "id": "GDzOLGGvk4YP"
      }
    },
    {
      "cell_type": "code",
      "source": [
        "model = keras.models.load_model('model-whole.h5')\n",
        "model.evaluate(val_scaled, val_target)"
      ],
      "metadata": {
        "colab": {
          "base_uri": "https://localhost:8080/"
        },
        "id": "Q5A1WcNDk1XG",
        "outputId": "9ce19873-dd91-4a8c-f482-ce234d6679db"
      },
      "execution_count": 35,
      "outputs": [
        {
          "output_type": "stream",
          "name": "stdout",
          "text": [
            "375/375 [==============================] - 1s 2ms/step - loss: 0.3361 - accuracy: 0.8747\n"
          ]
        },
        {
          "output_type": "execute_result",
          "data": {
            "text/plain": [
              "[0.33606114983558655, 0.874666690826416]"
            ]
          },
          "metadata": {},
          "execution_count": 35
        }
      ]
    },
    {
      "cell_type": "markdown",
      "source": [
        "## 콜백 "
      ],
      "metadata": {
        "id": "8jCb55nHljvw"
      }
    },
    {
      "cell_type": "markdown",
      "source": [
        "**콜백 callback**은 훈련 과정 중간에 어떤 작업을 수행할 수 있게 하는 객체이다.  \n",
        "`fit()` 메서드의 `callbacks` 매개변수에 리스트로 전달하여 사용한다."
      ],
      "metadata": {
        "id": "7y1qsBHWl13m"
      }
    },
    {
      "cell_type": "markdown",
      "source": [
        "`ModelCheckpoint` 콜백은 기본적으로 최상의 검증 점수를 만드는 모델을 저장한다. "
      ],
      "metadata": {
        "id": "WZY7HRtUmf5J"
      }
    },
    {
      "cell_type": "code",
      "source": [
        "model = model_fn(keras.layers.Dropout(0.3))\n",
        "model.compile(optimizer='adam', loss='sparse_categorical_crossentropy', metrics='accuracy')\n",
        "checkpoint_cb = keras.callbacks.ModelCheckpoint('best-model.h5')\n",
        "model.fit(train_scaled, train_target, epochs=20, verbose=0, validation_data=(val_scaled, val_target), callbacks=[checkpoint_cb])"
      ],
      "metadata": {
        "colab": {
          "base_uri": "https://localhost:8080/"
        },
        "id": "I08yxvyimBxr",
        "outputId": "c3ef098a-47ed-4bb2-ebb2-bea508082e06"
      },
      "execution_count": 37,
      "outputs": [
        {
          "output_type": "execute_result",
          "data": {
            "text/plain": [
              "<keras.callbacks.History at 0x7fe222078c50>"
            ]
          },
          "metadata": {},
          "execution_count": 37
        }
      ]
    },
    {
      "cell_type": "code",
      "source": [
        "model = keras.models.load_model('best-model.h5')\n",
        "model.evaluate(val_scaled, val_target)"
      ],
      "metadata": {
        "colab": {
          "base_uri": "https://localhost:8080/"
        },
        "id": "YImy61e6mAfv",
        "outputId": "a57264f1-4d3f-4bd0-88fa-f2b0e0a9d505"
      },
      "execution_count": 38,
      "outputs": [
        {
          "output_type": "stream",
          "name": "stdout",
          "text": [
            "375/375 [==============================] - 1s 2ms/step - loss: 0.3176 - accuracy: 0.8895\n"
          ]
        },
        {
          "output_type": "execute_result",
          "data": {
            "text/plain": [
              "[0.3175855278968811, 0.8895000219345093]"
            ]
          },
          "metadata": {},
          "execution_count": 38
        }
      ]
    },
    {
      "cell_type": "markdown",
      "source": [
        "과대적합이 시작되기 전에 훈련을 미리 중지하는 것을 **조기 종료 early stopping**라고 부른다."
      ],
      "metadata": {
        "id": "WwWvcdqXmx0-"
      }
    },
    {
      "cell_type": "markdown",
      "source": [
        "`EarlyStopping` 콜백의 `patience` 매개변수는 검증 점수가 향상되지 않더라도 참을 에포크 횟수로 지정한다.  \n",
        "예를 들어 `patience=2`로 지정하면 2번 연속 검증 점수가 향상되지 않으면 훈련을 중지한다.  \n",
        "`restore_best_weight` 매개변수를 `True`로 지정하면 가장 낮은 검증 손실을 낸 모델 파라미터로 되돌린다"
      ],
      "metadata": {
        "id": "yPo2-7HJnWV9"
      }
    },
    {
      "cell_type": "code",
      "source": [
        "model = model_fn(keras.layers.Dropout(0.3))\n",
        "model.compile(optimizer='adam', loss='sparse_categorical_crossentropy', metrics='accuracy')\n",
        "\n",
        "checkpoint_cb = keras.callbacks.ModelCheckpoint('best-model.h5')\n",
        "early_stopping_cb = keras.callbacks.EarlyStopping(patience=2, restore_best_weights=True)\n",
        "\n",
        "history = model.fit(train_scaled, train_target, epochs=20, verbose=0, validation_data=(val_scaled, val_target), callbacks=[checkpoint_cb, early_stopping_cb])"
      ],
      "metadata": {
        "id": "Zuu01fyonO23"
      },
      "execution_count": 40,
      "outputs": []
    },
    {
      "cell_type": "markdown",
      "source": [
        "몇 번째 에포크에서 훈련이 중지되었는지 `early_stopping_cb` 객체의 `stopped_epoch`속성에서 확인할 수 있다."
      ],
      "metadata": {
        "id": "_SUoIz0zoPPt"
      }
    },
    {
      "cell_type": "code",
      "source": [
        "print(early_stopping_cb.stopped_epoch) # 에포크 횟수가 0부터 시작"
      ],
      "metadata": {
        "colab": {
          "base_uri": "https://localhost:8080/"
        },
        "id": "woann7otoL7C",
        "outputId": "591c4fe3-0d71-4320-98c0-a723a03fa467"
      },
      "execution_count": 42,
      "outputs": [
        {
          "output_type": "stream",
          "name": "stdout",
          "text": [
            "10\n"
          ]
        }
      ]
    },
    {
      "cell_type": "code",
      "source": [
        "plt.plot(history.history['loss'])\n",
        "plt.plot(history.history['val_loss'])\n",
        "plt.xlabel('epoch')\n",
        "plt.ylabel('loss')\n",
        "plt.legend(['train', 'val'])\n",
        "plt.show()"
      ],
      "metadata": {
        "colab": {
          "base_uri": "https://localhost:8080/",
          "height": 282
        },
        "id": "STzPs951oX0H",
        "outputId": "15d89304-382f-4070-9c9b-32c99dcd2934"
      },
      "execution_count": 43,
      "outputs": [
        {
          "output_type": "display_data",
          "data": {
            "text/plain": [
              "<Figure size 432x288 with 1 Axes>"
            ],
            "image/png": "[encoded data removed]"
          },
          "metadata": {
            "needs_background": "light"
          }
        }
      ]
    },
    {
      "cell_type": "markdown",
      "source": [
        "조기 종료 기법을 사용하면 안심하고 에포크 횟수를 크게 지정해도 괜찮다."
      ],
      "metadata": {
        "id": "YqBXf7wvopxJ"
      }
    },
    {
      "cell_type": "code",
      "source": [
        "model.evaluate(val_scaled, val_target)"
      ],
      "metadata": {
        "colab": {
          "base_uri": "https://localhost:8080/"
        },
        "id": "KXZFZbHmoev4",
        "outputId": "bdff732d-9850-4600-fe1d-4945c3571793"
      },
      "execution_count": 44,
      "outputs": [
        {
          "output_type": "stream",
          "name": "stdout",
          "text": [
            "375/375 [==============================] - 1s 3ms/step - loss: 0.3208 - accuracy: 0.8828\n"
          ]
        },
        {
          "output_type": "execute_result",
          "data": {
            "text/plain": [
              "[0.32082095742225647, 0.8828333616256714]"
            ]
          },
          "metadata": {},
          "execution_count": 44
        }
      ]
    }
  ]
}
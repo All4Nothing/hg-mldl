{
  "nbformat": 4,
  "nbformat_minor": 0,
  "metadata": {
    "colab": {
      "name": "7-2.ipynb",
      "provenance": [],
      "collapsed_sections": [],
      "authorship_tag": "ABX9TyMiExiizuK/vkUz6t2pqxvM",
      "include_colab_link": true
    },
    "kernelspec": {
      "name": "python3",
      "display_name": "Python 3"
    },
    "language_info": {
      "name": "python"
    }
  },
  "cells": [
    {
      "cell_type": "markdown",
      "metadata": {
        "id": "view-in-github",
        "colab_type": "text"
      },
      "source": [
        "<a href=\"https://colab.research.google.com/github/All4Nothing/hg-mldl/blob/main/7-2.ipynb\" target=\"_parent\"><img src=\"https://colab.research.google.com/assets/colab-badge.svg\" alt=\"Open In Colab\"/></a>"
      ]
    },
    {
      "cell_type": "markdown",
      "source": [
        "# 심층 신경망"
      ],
      "metadata": {
        "id": "eqAGQchG0vtE"
      }
    },
    {
      "cell_type": "code",
      "execution_count": 4,
      "metadata": {
        "colab": {
          "base_uri": "https://localhost:8080/"
        },
        "id": "ZIzVH7w50oDA",
        "outputId": "30eb8016-2556-4ff1-972f-2ce1f91c3f1b"
      },
      "outputs": [
        {
          "output_type": "stream",
          "name": "stdout",
          "text": [
            "Downloading data from https://storage.googleapis.com/tensorflow/tf-keras-datasets/train-labels-idx1-ubyte.gz\n",
            "32768/29515 [=================================] - 0s 0us/step\n",
            "40960/29515 [=========================================] - 0s 0us/step\n",
            "Downloading data from https://storage.googleapis.com/tensorflow/tf-keras-datasets/train-images-idx3-ubyte.gz\n",
            "26427392/26421880 [==============================] - 0s 0us/step\n",
            "26435584/26421880 [==============================] - 0s 0us/step\n",
            "Downloading data from https://storage.googleapis.com/tensorflow/tf-keras-datasets/t10k-labels-idx1-ubyte.gz\n",
            "16384/5148 [===============================================================================================] - 0s 0us/step\n",
            "Downloading data from https://storage.googleapis.com/tensorflow/tf-keras-datasets/t10k-images-idx3-ubyte.gz\n",
            "4423680/4422102 [==============================] - 0s 0us/step\n",
            "4431872/4422102 [==============================] - 0s 0us/step\n"
          ]
        }
      ],
      "source": [
        "from tensorflow import keras \n",
        "(train_input, train_target), (test_input, test_target) = keras.datasets.fashion_mnist.load_data()"
      ]
    },
    {
      "cell_type": "code",
      "source": [
        "from sklearn.model_selection import train_test_split\n",
        "train_scaled = train_input / 255.0\n",
        "train_scaled = train_scaled.reshape(-1, 28*28)\n",
        "train_scaled, val_scaled, train_target, val_target = train_test_split(train_scaled, train_target, test_size=0.2, random_state=42)"
      ],
      "metadata": {
        "id": "QJkTbi-R1QyJ"
      },
      "execution_count": 5,
      "outputs": []
    },
    {
      "cell_type": "markdown",
      "source": [
        "입력층과 출력층 사이에 있는 모든 층을  **은닉층 hidden layer**라고 부른다"
      ],
      "metadata": {
        "id": "2XcEjT0g2ArZ"
      }
    },
    {
      "cell_type": "markdown",
      "source": [
        "은닉층에는 활성화 함수가 적용된다.  \n",
        "활성화 함수는 신경망 층의 선형 방정식의 계산 값에 적용하는 함수이다.  \n",
        "출력층에 적용하는 활성화 함수는 종류가 제한되어 있다.(이진 분류의 경우 `시그모이드` 함수, 다중 분류의 경우 `소프트맥스` 함수)  \n",
        "은닉층의 활성화 함수는 비교적 자유롭다. 대표적으로 `시그모이드` 함수와 `렐루 ReLU` 함수 등을 사용한다"
      ],
      "metadata": {
        "id": "vs1valQQ2MlL"
      }
    },
    {
      "cell_type": "markdown",
      "source": [
        "분류 문제는 클래스에 대한 확률을 출력하기 위해 활성화 함수를 사용한다.  \n",
        "회귀 출력은 임의의 어떤 숫자이므로 활성화 함수를 적용할 필요가 없다. 즉 출력층의 선형 방정식의 계산을 그대로 출력한다. Dense 층의 activation 매개변수에 아무런 값을 지정하지 않는다."
      ],
      "metadata": {
        "id": "nycqVVNd2w2Q"
      }
    },
    {
      "cell_type": "code",
      "source": [
        "dense1 = keras.layers.Dense(100, activation = 'sigmoid', input_shape=(784,)) # 케라스에서 신경망의 첫 번째 층은 input_shape 매개변수로 입력의 크기를 꼭 지정해주어야 한다.\n",
        "dense2 = keras.layers.Dense(10, activation='softmax')"
      ],
      "metadata": {
        "id": "x2j5B1IG12Fa"
      },
      "execution_count": 7,
      "outputs": []
    },
    {
      "cell_type": "markdown",
      "source": [
        "`Dense 클래스`  \n",
        "`dense1` : 은닉층, 100개의 뉴런을 가진 밀집층. 은닉층의 뉴런 개수를 정하는데는 특별한 기준이 없다. 출력층의 뉴런보다는 많게 만들어야 한다.  \n",
        "`dense2` : 출력층, 10개의 클래스를 분류하므로 10개의 뉴런."
      ],
      "metadata": {
        "id": "e6XOEsPl3zqx"
      }
    },
    {
      "cell_type": "markdown",
      "source": [
        "## 심층 신경망 만들기"
      ],
      "metadata": {
        "id": "diYUoYkx4ZaF"
      }
    },
    {
      "cell_type": "markdown",
      "source": [
        "`dense1`과 `dense2` 객체를 `Sequential 클래스에 추가하여 **심층 신경망 deep neural network, DNN`을 만든다."
      ],
      "metadata": {
        "id": "DdJ_qv2U4dbU"
      }
    },
    {
      "cell_type": "markdown",
      "source": [
        "가장 처음 등장하는 은닉층에서 마지막 출력층의 순서로 리스트를 나열하여 전달한다"
      ],
      "metadata": {
        "id": "TvE3FnaL5Ci6"
      }
    },
    {
      "cell_type": "code",
      "source": [
        "model = keras.Sequential([dense1, dense2])"
      ],
      "metadata": {
        "id": "x04MsRYW4Y2J"
      },
      "execution_count": 8,
      "outputs": []
    },
    {
      "cell_type": "code",
      "source": [
        "model.summary()"
      ],
      "metadata": {
        "colab": {
          "base_uri": "https://localhost:8080/"
        },
        "id": "qnByG-UQ42dV",
        "outputId": "bdef6ed4-59b3-452d-c04b-7133f6c38cd3"
      },
      "execution_count": 9,
      "outputs": [
        {
          "output_type": "stream",
          "name": "stdout",
          "text": [
            "Model: \"sequential\"\n",
            "_________________________________________________________________\n",
            " Layer (type)                Output Shape              Param #   \n",
            "=================================================================\n",
            " dense (Dense)               (None, 100)               78500     \n",
            "                                                                 \n",
            " dense_1 (Dense)             (None, 10)                1010      \n",
            "                                                                 \n",
            "=================================================================\n",
            "Total params: 79,510\n",
            "Trainable params: 79,510\n",
            "Non-trainable params: 0\n",
            "_________________________________________________________________\n"
          ]
        }
      ]
    },
    {
      "cell_type": "markdown",
      "source": [
        "맨 첫 줄에 모델 이름  \n",
        "층마다 층 이름, 클래스, 출력 크기, 모델 파라미터 개수가 출력된다. 층을 만들 때 name 매개변수로 이름을 지정할 수 있고, 지정하지 않으면 자동으로 `dense`라고 이름을 붙인다"
      ],
      "metadata": {
        "id": "7ftDrPI95K5H"
      }
    },
    {
      "cell_type": "markdown",
      "source": [
        "출력 크기 `(None, 100)`.   \n",
        "1. 첫번째 차원은 샘플의 개수를 나타낸다. 케라스 모델의 `fit()` 메서드에 훈련 데이터를 주입하면 미니배치 경사 하강법을 사용하여 단계를 수행한다.  \n",
        "케라스의 기본 미니배치 크기는 32개이다. `fit()` 메서드에서 `batch_size` 매개변수로 바꿀 수 있다.  \n",
        "샘플 개수를 고정하지 않고 어떤 배치 크기에도 유연하게 대응할 수 있도록 None으로 설정  \n",
        "신경망 층에 입력되거나 출력되는 배열의 첫번째 차원을 배치 차원이라고 부른다  \n",
        "2. 은닉층의 뉴런 개수를 100개로 두었으니 100개의 출력이 나온다. 즉 샘플마다 784개의 픽셀값이 은닉층을 통과하면서 100개의 특성으로 압축되었다.  "
      ],
      "metadata": {
        "id": "VR5tk-s-5je_"
      }
    },
    {
      "cell_type": "markdown",
      "source": [
        "모델 파라미터 개수 = 입력 x 뉴런수 + 뉴런수 x 1  \n",
        "784개 x 100개 + 100개 = 78,500개  \n",
        "100개 x 10개 + 10개 = 1,010개"
      ],
      "metadata": {
        "id": "16ROYJIH6a84"
      }
    },
    {
      "cell_type": "markdown",
      "source": [
        "훈련되지 않은 파라미터(Non-trainable params) : 경사 하강법으로 훈련되지 않는 파라미터를 가진 층의 파라미터 개수"
      ],
      "metadata": {
        "id": "eHOG4A0p7RNf"
      }
    },
    {
      "cell_type": "markdown",
      "source": [
        "## 층을 추가하는 다른 방법"
      ],
      "metadata": {
        "id": "UKWq1VDh7ZPZ"
      }
    },
    {
      "cell_type": "markdown",
      "source": [
        "1. Dense 클래스의 객체를 만들어 Sequential 클래스에 전달"
      ],
      "metadata": {
        "id": "nR8q_dhL7-Db"
      }
    },
    {
      "cell_type": "markdown",
      "source": [
        "2. Sequential 클래스의 생성자 안에서 바로 Dense 클래스의 객체를 만드는 경우"
      ],
      "metadata": {
        "id": "c-IeEweB8D0W"
      }
    },
    {
      "cell_type": "code",
      "source": [
        "model = keras.Sequential([\n",
        "  keras.layers.Dense(100, activation='sigmoid', input_shape=(784,), name='hidden'),\n",
        "  keras.layers.Dense(10, activation='softmax', name='output')                        \n",
        "], name='패션 MNIST 모델')"
      ],
      "metadata": {
        "id": "KdVgVicK5d20"
      },
      "execution_count": 10,
      "outputs": []
    },
    {
      "cell_type": "code",
      "source": [
        "model.summary()"
      ],
      "metadata": {
        "colab": {
          "base_uri": "https://localhost:8080/"
        },
        "id": "qv47LUSb7yDh",
        "outputId": "b8d7ff83-0332-410f-92fd-ef8519d0a765"
      },
      "execution_count": 11,
      "outputs": [
        {
          "output_type": "stream",
          "name": "stdout",
          "text": [
            "Model: \"패션 MNIST 모델\"\n",
            "_________________________________________________________________\n",
            " Layer (type)                Output Shape              Param #   \n",
            "=================================================================\n",
            " hidden (Dense)              (None, 100)               78500     \n",
            "                                                                 \n",
            " output (Dense)              (None, 10)                1010      \n",
            "                                                                 \n",
            "=================================================================\n",
            "Total params: 79,510\n",
            "Trainable params: 79,510\n",
            "Non-trainable params: 0\n",
            "_________________________________________________________________\n"
          ]
        }
      ]
    },
    {
      "cell_type": "markdown",
      "source": [
        "3. `add()`"
      ],
      "metadata": {
        "id": "3oy9AWMe8IlW"
      }
    },
    {
      "cell_type": "code",
      "source": [
        "model = keras.Sequential()\n",
        "model.add(keras.layers.Dense(100, activation='sigmoid', input_shape=(784,)))\n",
        "model.add(keras.layers.Dense(10, activation='softmax'))"
      ],
      "metadata": {
        "id": "dNgdpjSj72qf"
      },
      "execution_count": 14,
      "outputs": []
    },
    {
      "cell_type": "code",
      "source": [
        "model.summary()"
      ],
      "metadata": {
        "colab": {
          "base_uri": "https://localhost:8080/"
        },
        "id": "TH7twbqc8PJ9",
        "outputId": "623ccc94-111b-4b64-89cc-2c237d7e5d71"
      },
      "execution_count": 15,
      "outputs": [
        {
          "output_type": "stream",
          "name": "stdout",
          "text": [
            "Model: \"sequential_2\"\n",
            "_________________________________________________________________\n",
            " Layer (type)                Output Shape              Param #   \n",
            "=================================================================\n",
            " dense_2 (Dense)             (None, 100)               78500     \n",
            "                                                                 \n",
            " dense_3 (Dense)             (None, 10)                1010      \n",
            "                                                                 \n",
            "=================================================================\n",
            "Total params: 79,510\n",
            "Trainable params: 79,510\n",
            "Non-trainable params: 0\n",
            "_________________________________________________________________\n"
          ]
        }
      ]
    },
    {
      "cell_type": "markdown",
      "source": [
        "훈련"
      ],
      "metadata": {
        "id": "7l8NcjHt8jp8"
      }
    },
    {
      "cell_type": "code",
      "source": [
        "model.compile(loss='sparse_categorical_crossentropy', metrics='accuracy')\n",
        "model.fit(train_scaled, train_target, epochs=5)"
      ],
      "metadata": {
        "colab": {
          "base_uri": "https://localhost:8080/"
        },
        "id": "UVOI7k9H8grE",
        "outputId": "41f45414-7c55-4560-ecb5-f63e0272b142"
      },
      "execution_count": 17,
      "outputs": [
        {
          "output_type": "stream",
          "name": "stdout",
          "text": [
            "Epoch 1/5\n",
            "1500/1500 [==============================] - 5s 3ms/step - loss: 0.5623 - accuracy: 0.8077\n",
            "Epoch 2/5\n",
            "1500/1500 [==============================] - 4s 3ms/step - loss: 0.4088 - accuracy: 0.8527\n",
            "Epoch 3/5\n",
            "1500/1500 [==============================] - 4s 3ms/step - loss: 0.3737 - accuracy: 0.8654\n",
            "Epoch 4/5\n",
            "1500/1500 [==============================] - 4s 3ms/step - loss: 0.3513 - accuracy: 0.8725\n",
            "Epoch 5/5\n",
            "1500/1500 [==============================] - 4s 3ms/step - loss: 0.3350 - accuracy: 0.8780\n"
          ]
        },
        {
          "output_type": "execute_result",
          "data": {
            "text/plain": [
              "<keras.callbacks.History at 0x7f405bbd1190>"
            ]
          },
          "metadata": {},
          "execution_count": 17
        }
      ]
    },
    {
      "cell_type": "markdown",
      "source": [
        "## 렐루 함수"
      ],
      "metadata": {
        "id": "Nd557ySs8t7M"
      }
    },
    {
      "cell_type": "markdown",
      "source": [
        "시그모이드 함수는 오른쪽과 왼쪽 끝으로 갈수록 그래프가 누워있기 때문에 올바른 출력을 만드는데 신속하게 대응하지 못한다.  \n",
        "특히 층이 많은 심층 신경망일수록 그 효과가 누적되어 학습을 더 어렵게 만든다"
      ],
      "metadata": {
        "id": "lkFxITLf857b"
      }
    },
    {
      "cell_type": "markdown",
      "source": [
        "**렐루 ReLU**함수는 입력이 양수일 경우 활성화 함수가 없는 것처럼 그냥 입력을 통과시키고 음수일 경우에는 0으로 만든다.  \n",
        "![ReLU](https://t1.daumcdn.net/cfile/tistory/99F8D13359F5F58F32)\n",
        "`max(0,z)`: z가 0보다 크면 z를 출력하고 z가 0보다 작으면 0을 출력한다.  \n",
        "렐루 함수는 특히 이미지 처리에서 좋은 성능을 낸다.  \n",
        "`Flatten`층은 이미지를 1차원 배열로 펼쳐서 입력하지 않아도, 배치 차원을 제외하고 나머지 입력 차원을 모두 일렬로 펼치는 역할만 한다.  \n",
        "`Flatten`층은 입력층 바로 뒤에 추가한다."
      ],
      "metadata": {
        "id": "_RnqLo469FUu"
      }
    },
    {
      "cell_type": "code",
      "source": [
        "model = keras.Sequential()\n",
        "model.add(keras.layers.Flatten(input_shape=(28, 28)))\n",
        "model.add(keras.layers.Dense(100, activation='relu'))\n",
        "model.add(keras.layers.Dense(10, activation='softmax'))"
      ],
      "metadata": {
        "id": "0n9SXKLU93a4"
      },
      "execution_count": 20,
      "outputs": []
    },
    {
      "cell_type": "code",
      "source": [
        "model.summary()"
      ],
      "metadata": {
        "colab": {
          "base_uri": "https://localhost:8080/"
        },
        "id": "lOyf8nOG-HJc",
        "outputId": "f34398b8-c7b9-46b6-b758-3cd9216a295e"
      },
      "execution_count": 21,
      "outputs": [
        {
          "output_type": "stream",
          "name": "stdout",
          "text": [
            "Model: \"sequential_5\"\n",
            "_________________________________________________________________\n",
            " Layer (type)                Output Shape              Param #   \n",
            "=================================================================\n",
            " flatten_1 (Flatten)         (None, 784)               0         \n",
            "                                                                 \n",
            " dense_5 (Dense)             (None, 100)               78500     \n",
            "                                                                 \n",
            " dense_6 (Dense)             (None, 10)                1010      \n",
            "                                                                 \n",
            "=================================================================\n",
            "Total params: 79,510\n",
            "Trainable params: 79,510\n",
            "Non-trainable params: 0\n",
            "_________________________________________________________________\n"
          ]
        }
      ]
    },
    {
      "cell_type": "markdown",
      "source": [
        "`Flatten`층을 신경망 모델에 추가하면 입력값의 차원을 짐작할 수 있다. 784개의 입력이 첫번째 은닉층에 전달된다는 것을 알 수 있다.  \n",
        "케라스 API는 입력 데이터에 대한 전처리 과정을 될 수 있으면 모델에 포함한다."
      ],
      "metadata": {
        "id": "JZAS7Bgr-ivy"
      }
    },
    {
      "cell_type": "code",
      "source": [
        "(train_input, train_target), (test_input, test_target) = keras.datasets.fashion_mnist.load_data()\n",
        "train_scaled = train_input / 255.0\n",
        "train_scaled, val_scaled, train_target, val_target = train_test_split(train_scaled, train_target, test_size=0.2, random_state=42)"
      ],
      "metadata": {
        "id": "-Pv3nse1-Twj"
      },
      "execution_count": 22,
      "outputs": []
    },
    {
      "cell_type": "code",
      "source": [
        "model.compile(loss='sparse_categorical_crossentropy', metrics='accuracy')\n",
        "model.fit(train_scaled, train_target, epochs=5)"
      ],
      "metadata": {
        "colab": {
          "base_uri": "https://localhost:8080/"
        },
        "id": "AORhrLzB-_4F",
        "outputId": "f94f1e90-de92-4e5e-eed9-1de44cddf839"
      },
      "execution_count": 23,
      "outputs": [
        {
          "output_type": "stream",
          "name": "stdout",
          "text": [
            "Epoch 1/5\n",
            "1500/1500 [==============================] - 7s 3ms/step - loss: 0.5326 - accuracy: 0.8118\n",
            "Epoch 2/5\n",
            "1500/1500 [==============================] - 4s 3ms/step - loss: 0.3960 - accuracy: 0.8572\n",
            "Epoch 3/5\n",
            "1500/1500 [==============================] - 4s 3ms/step - loss: 0.3587 - accuracy: 0.8709\n",
            "Epoch 4/5\n",
            "1500/1500 [==============================] - 4s 3ms/step - loss: 0.3360 - accuracy: 0.8801\n",
            "Epoch 5/5\n",
            "1500/1500 [==============================] - 4s 3ms/step - loss: 0.3204 - accuracy: 0.8849\n"
          ]
        },
        {
          "output_type": "execute_result",
          "data": {
            "text/plain": [
              "<keras.callbacks.History at 0x7f405c3fd390>"
            ]
          },
          "metadata": {},
          "execution_count": 23
        }
      ]
    },
    {
      "cell_type": "code",
      "source": [
        "model.evaluate(val_scaled, val_target)"
      ],
      "metadata": {
        "colab": {
          "base_uri": "https://localhost:8080/"
        },
        "id": "WdUlkfeE_JqK",
        "outputId": "b4dddd32-dabe-44cf-9e86-bb3eddb1c3ad"
      },
      "execution_count": 24,
      "outputs": [
        {
          "output_type": "stream",
          "name": "stdout",
          "text": [
            "375/375 [==============================] - 1s 2ms/step - loss: 0.3661 - accuracy: 0.8766\n"
          ]
        },
        {
          "output_type": "execute_result",
          "data": {
            "text/plain": [
              "[0.3661092519760132, 0.8765833377838135]"
            ]
          },
          "metadata": {},
          "execution_count": 24
        }
      ]
    },
    {
      "cell_type": "markdown",
      "source": [
        "## 옵티마이저"
      ],
      "metadata": {
        "id": "k5Vm_XW1BgCU"
      }
    },
    {
      "cell_type": "markdown",
      "source": [
        "**옵티마이저 optimizer** 다양한 종류의 경사 하강법 알고리즘"
      ],
      "metadata": {
        "id": "_CvBMVxfBlRk"
      }
    },
    {
      "cell_type": "markdown",
      "source": [
        "확률적 경사 하강법 `SGD`. 이름이 SGD이지만 1개의 샘플을 봅아서 훈련하지 않고 기본적으로 미니배치를 사용한다."
      ],
      "metadata": {
        "id": "KJ-QwXXOB9rG"
      }
    },
    {
      "cell_type": "code",
      "source": [
        "model.compile(optimizer='sgd', loss='sparse_categorical_crossentropy', metrics='accuracy')"
      ],
      "metadata": {
        "id": "WqummTx6CGd5"
      },
      "execution_count": 25,
      "outputs": []
    },
    {
      "cell_type": "code",
      "source": [
        "# 동일한 코드\n",
        "sgd = keras.optimizers.SGD()\n",
        "model.compile(optimizer=sgd, loss='sparse_categorical_crossentropy', metrics='accuracy')"
      ],
      "metadata": {
        "id": "wv8Yzg2bCN4q"
      },
      "execution_count": 26,
      "outputs": []
    },
    {
      "cell_type": "code",
      "source": [
        "sgd = keras.optimizers.SGD(learning_rate = 0.1) # SGD 클래스의 학습률 기본값이 0.01일 때 이를 바꾸고 싶을때 사용"
      ],
      "metadata": {
        "id": "5k4w6xDJCfv6"
      },
      "execution_count": 27,
      "outputs": []
    },
    {
      "cell_type": "markdown",
      "source": [
        "![옵티마이저](https://thebook.io/img/080324/132.jpg)"
      ],
      "metadata": {
        "id": "nt4BrZ1TDC8N"
      }
    },
    {
      "cell_type": "markdown",
      "source": [
        "`SGD`클래스의 momentum 매개변수의 기본값은 0이다. 이를 0보다 큰 값으로 지정하면 마치 이전의 그레이디언트를 가속도처럼 사용하는 **모멘텀 최적화 momentum optimization**을 사용한다. 보통 `momentum`매개변수는 0.9이상을 지정한다."
      ],
      "metadata": {
        "id": "iJHI0vRkDG13"
      }
    },
    {
      "cell_type": "markdown",
      "source": [
        "`SGD`클래스의 `nesterov` 매개변수를 기본값 `False`에서 `True`로 바꾸면 **네스테로프 모멘텀 최적화 nesterov momentum optimization(또는 네스테로프 가속 경사)**를 사용한다."
      ],
      "metadata": {
        "id": "QBDgHtv-DVTJ"
      }
    },
    {
      "cell_type": "code",
      "source": [
        "sgd = keras.optimizers.SGD(momentum=0.9, nesterov=True)"
      ],
      "metadata": {
        "id": "IcHakIFwCqWH"
      },
      "execution_count": 28,
      "outputs": []
    },
    {
      "cell_type": "markdown",
      "source": [
        "네스테로프 모멘텀은 모멘텀 최적화를 2번 반복하여 구현한다. 대부분의 경우 네스테로프 모멘텀 최적화가 기본 확률적 경사 하강법보다 더 나은 성능을 제공한다"
      ],
      "metadata": {
        "id": "Z76_eFFMDrMx"
      }
    },
    {
      "cell_type": "markdown",
      "source": [
        "모델이 최적점에 가까이 갈수록 학습률을 낮출 수 있다. 이렇게 하면 안정적으로 최적점에 수렴할 가능성이 높다. 이런 학습률을 **적응적 학습률 adaptive learning rate**이라고 한다. "
      ],
      "metadata": {
        "id": "kgdziD99Do45"
      }
    },
    {
      "cell_type": "markdown",
      "source": [
        "적응적 학습률을 사용하는 대표적인 옵티마이저는 Adagrad와 RMSprop이다. 각각 `compile()`메서드의 `optimizer`매개변수에 `adagrad`와 `rmsprop`로 지정할 수 있다. "
      ],
      "metadata": {
        "id": "XOPTDxT2EC-o"
      }
    },
    {
      "cell_type": "markdown",
      "source": [
        "`optimizer`매개변수의 기본값은 `rmsprop`이다"
      ],
      "metadata": {
        "id": "sD6t4f_EEbjX"
      }
    },
    {
      "cell_type": "code",
      "source": [
        "adagrad = keras.optimizers.Adagrad()\n",
        "model.compile(optimizer=adagrad, loss='sparse_categorical_crossentropy', metrics='accuracy')"
      ],
      "metadata": {
        "id": "L30HW9LcEOlO"
      },
      "execution_count": 30,
      "outputs": []
    },
    {
      "cell_type": "code",
      "source": [
        "rmsprop = keras.optimizers.RMSprop()\n",
        "model.compile(optimizer=rmsprop, loss='sparse_categorical_crossentropy', metrics='accuracy')"
      ],
      "metadata": {
        "id": "O1lFv8u1EX79"
      },
      "execution_count": 31,
      "outputs": []
    },
    {
      "cell_type": "markdown",
      "source": [
        "모멘텀 최적화와 RMSprop의 장점을 접목한 것이 `Adam`이다."
      ],
      "metadata": {
        "id": "DSOAmXrQEt2i"
      }
    },
    {
      "cell_type": "markdown",
      "source": [
        "적응적 학습률을 사용하는 `RMSprop`, `Adagrad`, `Adam` 모두 `learning_rate` 매개변수의 기본값으로 모두 0.001을 사용한다"
      ],
      "metadata": {
        "id": "mRDP8-PKE1t9"
      }
    },
    {
      "cell_type": "code",
      "source": [
        "model = keras.Sequential()\n",
        "model.add(keras.layers.Flatten(input_shape=(28,28)))\n",
        "model.add(keras.layers.Dense(100, activation='relu'))\n",
        "model.add(keras.layers.Dense(10, activation='softmax'))"
      ],
      "metadata": {
        "id": "XoO1WrvdEzIs"
      },
      "execution_count": 34,
      "outputs": []
    },
    {
      "cell_type": "code",
      "source": [
        "model.compile(optimizer='adam', loss='sparse_categorical_crossentropy', metrics='accuracy')\n",
        "model.fit(train_scaled, train_target, epochs=5)"
      ],
      "metadata": {
        "colab": {
          "base_uri": "https://localhost:8080/"
        },
        "id": "W15S01zbFVDt",
        "outputId": "bbe28845-da1d-4850-979a-b352918b74b9"
      },
      "execution_count": 35,
      "outputs": [
        {
          "output_type": "stream",
          "name": "stdout",
          "text": [
            "Epoch 1/5\n",
            "1500/1500 [==============================] - 6s 3ms/step - loss: 0.5226 - accuracy: 0.8178\n",
            "Epoch 2/5\n",
            "1500/1500 [==============================] - 3s 2ms/step - loss: 0.3928 - accuracy: 0.8589\n",
            "Epoch 3/5\n",
            "1500/1500 [==============================] - 3s 2ms/step - loss: 0.3520 - accuracy: 0.8717\n",
            "Epoch 4/5\n",
            "1500/1500 [==============================] - 3s 2ms/step - loss: 0.3249 - accuracy: 0.8813\n",
            "Epoch 5/5\n",
            "1500/1500 [==============================] - 3s 2ms/step - loss: 0.3096 - accuracy: 0.8861\n"
          ]
        },
        {
          "output_type": "execute_result",
          "data": {
            "text/plain": [
              "<keras.callbacks.History at 0x7f405c1d3190>"
            ]
          },
          "metadata": {},
          "execution_count": 35
        }
      ]
    },
    {
      "cell_type": "code",
      "source": [
        "model.evaluate(val_scaled, val_target)"
      ],
      "metadata": {
        "colab": {
          "base_uri": "https://localhost:8080/"
        },
        "id": "_oy8442kFnLI",
        "outputId": "99c80801-08a6-4c72-c4dc-99a08b6cc5c5"
      },
      "execution_count": 36,
      "outputs": [
        {
          "output_type": "stream",
          "name": "stdout",
          "text": [
            "375/375 [==============================] - 1s 3ms/step - loss: 0.3395 - accuracy: 0.8768\n"
          ]
        },
        {
          "output_type": "execute_result",
          "data": {
            "text/plain": [
              "[0.3395117521286011, 0.8768333196640015]"
            ]
          },
          "metadata": {},
          "execution_count": 36
        }
      ]
    }
  ]
}